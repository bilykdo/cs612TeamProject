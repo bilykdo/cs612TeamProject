{
 "metadata": {
  "language_info": {
   "codemirror_mode": {
    "name": "ipython",
    "version": 3
   },
   "file_extension": ".py",
   "mimetype": "text/x-python",
   "name": "python",
   "nbconvert_exporter": "python",
   "pygments_lexer": "ipython3",
   "version": "3.8.3-final"
  },
  "orig_nbformat": 2,
  "kernelspec": {
   "name": "python38332bit04ad83351b8f4411b170489dc1d673a5",
   "display_name": "Python 3.8.3 32-bit"
  }
 },
 "nbformat": 4,
 "nbformat_minor": 2,
 "cells": [
  {
   "cell_type": "code",
   "execution_count": 2,
   "metadata": {},
   "outputs": [],
   "source": [
    "import numpy as np \n",
    "import pandas as pd "
   ]
  },
  {
   "cell_type": "code",
   "execution_count": 3,
   "metadata": {},
   "outputs": [],
   "source": [
    "raw_scorecard = pd.read_csv('MERGED2013_PP.csv',na_values=\"PrivacySuppressed\")"
   ]
  },
  {
   "cell_type": "code",
   "execution_count": 4,
   "metadata": {},
   "outputs": [
    {
     "output_type": "execute_result",
     "data": {
      "text/plain": "                                             INSTNM            CITY STABBR  \\\n0                          Alabama A & M University          Normal     AL   \n1               University of Alabama at Birmingham      Birmingham     AL   \n2                                Amridge University      Montgomery     AL   \n3               University of Alabama in Huntsville      Huntsville     AL   \n4                          Alabama State University      Montgomery     AL   \n...                                             ...             ...    ...   \n7799       Georgia Military College-Columbus Campus        Columbus     GA   \n7800       Georgia Military College-Valdosta Campus        Valdosta     GA   \n7801  Georgia Military College-Warner Robins Campus   Warner Robins     GA   \n7802                Georgia Military College-Online   Milledgeville     GA   \n7803        Georgia Military College-Stone Mountain  Stone Mountain     GA   \n\n      region     UGDS  UG  NPT4_PUB  NPT4_PRIV  COSTT4_A  COSTT4_P  DEBT_MDN  \\\n0          5   4051.0 NaN   13415.0        NaN   18888.0       NaN   19500.0   \n1          5  11200.0 NaN   14805.0        NaN   19990.0       NaN   16250.0   \n2          5    322.0 NaN       NaN     7455.0   12300.0       NaN   10500.0   \n3          5   5525.0 NaN   17520.0        NaN   20306.0       NaN   16500.0   \n4          5   5354.0 NaN   11936.0        NaN   17400.0       NaN   15854.5   \n...      ...      ...  ..       ...        ...       ...       ...       ...   \n7799       5      NaN NaN       NaN        NaN       NaN       NaN    6076.0   \n7800       5      NaN NaN       NaN        NaN       NaN       NaN    6076.0   \n7801       5      NaN NaN       NaN        NaN       NaN       NaN    6076.0   \n7802       5      NaN NaN       NaN        NaN       NaN       NaN    6076.0   \n7803       5      NaN NaN       NaN        NaN       NaN       NaN    6076.0   \n\n      GRAD_DEBT_MDN  WDRAW_DEBT_MDN  count_nwne_p10  mn_earn_wne_p10  \\\n0           33611.5         14250.0             NaN              NaN   \n1           23117.0         11886.0             NaN              NaN   \n2           26995.0          9500.0             NaN              NaN   \n3           24738.0         10500.0             NaN              NaN   \n4           33452.0         12500.0             NaN              NaN   \n...             ...             ...             ...              ...   \n7799        10500.0          5500.0             NaN              NaN   \n7800        10500.0          5500.0             NaN              NaN   \n7801        10500.0          5500.0             NaN              NaN   \n7802        10500.0          5500.0             NaN              NaN   \n7803        10500.0          5500.0             NaN              NaN   \n\n      md_earn_wne_p10  DEBT_MDN_SUPP  \n0                 NaN        19500.0  \n1                 NaN        16250.0  \n2                 NaN        10500.0  \n3                 NaN        16500.0  \n4                 NaN        15854.5  \n...               ...            ...  \n7799              NaN         6076.0  \n7800              NaN         6076.0  \n7801              NaN         6076.0  \n7802              NaN         6076.0  \n7803              NaN         6076.0  \n\n[7804 rows x 17 columns]",
      "text/html": "<div>\n<style scoped>\n    .dataframe tbody tr th:only-of-type {\n        vertical-align: middle;\n    }\n\n    .dataframe tbody tr th {\n        vertical-align: top;\n    }\n\n    .dataframe thead th {\n        text-align: right;\n    }\n</style>\n<table border=\"1\" class=\"dataframe\">\n  <thead>\n    <tr style=\"text-align: right;\">\n      <th></th>\n      <th>INSTNM</th>\n      <th>CITY</th>\n      <th>STABBR</th>\n      <th>region</th>\n      <th>UGDS</th>\n      <th>UG</th>\n      <th>NPT4_PUB</th>\n      <th>NPT4_PRIV</th>\n      <th>COSTT4_A</th>\n      <th>COSTT4_P</th>\n      <th>DEBT_MDN</th>\n      <th>GRAD_DEBT_MDN</th>\n      <th>WDRAW_DEBT_MDN</th>\n      <th>count_nwne_p10</th>\n      <th>mn_earn_wne_p10</th>\n      <th>md_earn_wne_p10</th>\n      <th>DEBT_MDN_SUPP</th>\n    </tr>\n  </thead>\n  <tbody>\n    <tr>\n      <th>0</th>\n      <td>Alabama A &amp; M University</td>\n      <td>Normal</td>\n      <td>AL</td>\n      <td>5</td>\n      <td>4051.0</td>\n      <td>NaN</td>\n      <td>13415.0</td>\n      <td>NaN</td>\n      <td>18888.0</td>\n      <td>NaN</td>\n      <td>19500.0</td>\n      <td>33611.5</td>\n      <td>14250.0</td>\n      <td>NaN</td>\n      <td>NaN</td>\n      <td>NaN</td>\n      <td>19500.0</td>\n    </tr>\n    <tr>\n      <th>1</th>\n      <td>University of Alabama at Birmingham</td>\n      <td>Birmingham</td>\n      <td>AL</td>\n      <td>5</td>\n      <td>11200.0</td>\n      <td>NaN</td>\n      <td>14805.0</td>\n      <td>NaN</td>\n      <td>19990.0</td>\n      <td>NaN</td>\n      <td>16250.0</td>\n      <td>23117.0</td>\n      <td>11886.0</td>\n      <td>NaN</td>\n      <td>NaN</td>\n      <td>NaN</td>\n      <td>16250.0</td>\n    </tr>\n    <tr>\n      <th>2</th>\n      <td>Amridge University</td>\n      <td>Montgomery</td>\n      <td>AL</td>\n      <td>5</td>\n      <td>322.0</td>\n      <td>NaN</td>\n      <td>NaN</td>\n      <td>7455.0</td>\n      <td>12300.0</td>\n      <td>NaN</td>\n      <td>10500.0</td>\n      <td>26995.0</td>\n      <td>9500.0</td>\n      <td>NaN</td>\n      <td>NaN</td>\n      <td>NaN</td>\n      <td>10500.0</td>\n    </tr>\n    <tr>\n      <th>3</th>\n      <td>University of Alabama in Huntsville</td>\n      <td>Huntsville</td>\n      <td>AL</td>\n      <td>5</td>\n      <td>5525.0</td>\n      <td>NaN</td>\n      <td>17520.0</td>\n      <td>NaN</td>\n      <td>20306.0</td>\n      <td>NaN</td>\n      <td>16500.0</td>\n      <td>24738.0</td>\n      <td>10500.0</td>\n      <td>NaN</td>\n      <td>NaN</td>\n      <td>NaN</td>\n      <td>16500.0</td>\n    </tr>\n    <tr>\n      <th>4</th>\n      <td>Alabama State University</td>\n      <td>Montgomery</td>\n      <td>AL</td>\n      <td>5</td>\n      <td>5354.0</td>\n      <td>NaN</td>\n      <td>11936.0</td>\n      <td>NaN</td>\n      <td>17400.0</td>\n      <td>NaN</td>\n      <td>15854.5</td>\n      <td>33452.0</td>\n      <td>12500.0</td>\n      <td>NaN</td>\n      <td>NaN</td>\n      <td>NaN</td>\n      <td>15854.5</td>\n    </tr>\n    <tr>\n      <th>...</th>\n      <td>...</td>\n      <td>...</td>\n      <td>...</td>\n      <td>...</td>\n      <td>...</td>\n      <td>...</td>\n      <td>...</td>\n      <td>...</td>\n      <td>...</td>\n      <td>...</td>\n      <td>...</td>\n      <td>...</td>\n      <td>...</td>\n      <td>...</td>\n      <td>...</td>\n      <td>...</td>\n      <td>...</td>\n    </tr>\n    <tr>\n      <th>7799</th>\n      <td>Georgia Military College-Columbus Campus</td>\n      <td>Columbus</td>\n      <td>GA</td>\n      <td>5</td>\n      <td>NaN</td>\n      <td>NaN</td>\n      <td>NaN</td>\n      <td>NaN</td>\n      <td>NaN</td>\n      <td>NaN</td>\n      <td>6076.0</td>\n      <td>10500.0</td>\n      <td>5500.0</td>\n      <td>NaN</td>\n      <td>NaN</td>\n      <td>NaN</td>\n      <td>6076.0</td>\n    </tr>\n    <tr>\n      <th>7800</th>\n      <td>Georgia Military College-Valdosta Campus</td>\n      <td>Valdosta</td>\n      <td>GA</td>\n      <td>5</td>\n      <td>NaN</td>\n      <td>NaN</td>\n      <td>NaN</td>\n      <td>NaN</td>\n      <td>NaN</td>\n      <td>NaN</td>\n      <td>6076.0</td>\n      <td>10500.0</td>\n      <td>5500.0</td>\n      <td>NaN</td>\n      <td>NaN</td>\n      <td>NaN</td>\n      <td>6076.0</td>\n    </tr>\n    <tr>\n      <th>7801</th>\n      <td>Georgia Military College-Warner Robins Campus</td>\n      <td>Warner Robins</td>\n      <td>GA</td>\n      <td>5</td>\n      <td>NaN</td>\n      <td>NaN</td>\n      <td>NaN</td>\n      <td>NaN</td>\n      <td>NaN</td>\n      <td>NaN</td>\n      <td>6076.0</td>\n      <td>10500.0</td>\n      <td>5500.0</td>\n      <td>NaN</td>\n      <td>NaN</td>\n      <td>NaN</td>\n      <td>6076.0</td>\n    </tr>\n    <tr>\n      <th>7802</th>\n      <td>Georgia Military College-Online</td>\n      <td>Milledgeville</td>\n      <td>GA</td>\n      <td>5</td>\n      <td>NaN</td>\n      <td>NaN</td>\n      <td>NaN</td>\n      <td>NaN</td>\n      <td>NaN</td>\n      <td>NaN</td>\n      <td>6076.0</td>\n      <td>10500.0</td>\n      <td>5500.0</td>\n      <td>NaN</td>\n      <td>NaN</td>\n      <td>NaN</td>\n      <td>6076.0</td>\n    </tr>\n    <tr>\n      <th>7803</th>\n      <td>Georgia Military College-Stone Mountain</td>\n      <td>Stone Mountain</td>\n      <td>GA</td>\n      <td>5</td>\n      <td>NaN</td>\n      <td>NaN</td>\n      <td>NaN</td>\n      <td>NaN</td>\n      <td>NaN</td>\n      <td>NaN</td>\n      <td>6076.0</td>\n      <td>10500.0</td>\n      <td>5500.0</td>\n      <td>NaN</td>\n      <td>NaN</td>\n      <td>NaN</td>\n      <td>6076.0</td>\n    </tr>\n  </tbody>\n</table>\n<p>7804 rows × 17 columns</p>\n</div>"
     },
     "metadata": {},
     "execution_count": 4
    }
   ],
   "source": [
    "# INSTNM: Institution name\n",
    "# CITY: City\n",
    "# STABBR: State postcode\n",
    "# region: Region (IPEDS)\n",
    "# UGDS: Enrollment of undergraduate degree-seeking students\n",
    "# UG: Enrollment of all undergraduate students\n",
    "# COSTT4_A: Average cost of attendance (academic year institutions)\n",
    "# COSTT4_P: Average cost of attendance (program-year institutions)\\\n",
    "# DEBT_MDN: The original amount of the loan principal upon entering repayment\n",
    "# GRAD_DEBT_MDN: The median debt for students who have completed\n",
    "# WDRAW_DEBT_MDN: The median debt for students who have not completed\n",
    "# count_nwne_p10: Number of students not working and not enrolled 10 years after entry\n",
    "# mn_earn_wne_p10: Mean earnings of students working and not enrolled 10 years after entry\n",
    "# md_earn_wne_p10: Median earnings of students working and not enrolled 10 years after entry\n",
    "# mn_earn_wne_p6\n",
    "# md_earn_wne_p6\n",
    "# DEBT_MDN_SUPP: Median debt, suppressed for n=30\n",
    "filtered_series = pd.Series(np.array(['INSTNM','CITY','STABBR','region','UGDS','UG','NPT4_PUB','NPT4_PRIV','COSTT4_A','COSTT4_P','DEBT_MDN','GRAD_DEBT_MDN','WDRAW_DEBT_MDN','count_nwne_p10','mn_earn_wne_p10','md_earn_wne_p10','DEBT_MDN_SUPP']))\n",
    "filtered_series_nums = pd.Series(np.array(['UGDS','UG','NPT4_PUB','NPT4_PRIV','COSTT4_A','COSTT4_P','DEBT_MDN','GRAD_DEBT_MDN','WDRAW_DEBT_MDN','count_nwne_p10','mn_earn_wne_p10','md_earn_wne_p10','DEBT_MDN_SUPP']))\n",
    "filtered_scorecard = raw_scorecard[filtered_series]\n",
    "filtered_scorecard"
   ]
  },
  {
   "cell_type": "code",
   "execution_count": 8,
   "metadata": {},
   "outputs": [],
   "source": [
    "filtered_scorecard[filtered_series_nums] = filtered_scorecard[filtered_series_nums].apply(pd.to_numeric)"
   ]
  },
  {
   "cell_type": "code",
   "execution_count": 13,
   "metadata": {},
   "outputs": [
    {
     "output_type": "execute_result",
     "data": {
      "text/plain": "UGDS                2332.78\nUG                      NaN\nNPT4_PUB            9583.52\nNPT4_PRIV          18071.81\nCOSTT4_A           24353.67\nCOSTT4_P           18494.88\nDEBT_MDN           11829.78\nGRAD_DEBT_MDN      16906.35\nWDRAW_DEBT_MDN      7660.60\ncount_nwne_p10          NaN\nmn_earn_wne_p10         NaN\nmd_earn_wne_p10         NaN\nDEBT_MDN_SUPP      11860.14\ndtype: float64"
     },
     "metadata": {},
     "execution_count": 13
    }
   ],
   "source": [
    "# means\n",
    "filtered_scorecard[filtered_series_nums].mean().round(decimals=2)"
   ]
  },
  {
   "cell_type": "code",
   "execution_count": 14,
   "metadata": {},
   "outputs": [
    {
     "output_type": "execute_result",
     "data": {
      "text/plain": "UGDS                 432.5\nUG                     NaN\nNPT4_PUB            8792.0\nNPT4_PRIV          18259.0\nCOSTT4_A           22865.0\nCOSTT4_P           17831.0\nDEBT_MDN            9833.0\nGRAD_DEBT_MDN      14144.0\nWDRAW_DEBT_MDN      6772.5\ncount_nwne_p10         NaN\nmn_earn_wne_p10        NaN\nmd_earn_wne_p10        NaN\nDEBT_MDN_SUPP       9833.0\ndtype: float64"
     },
     "metadata": {},
     "execution_count": 14
    }
   ],
   "source": [
    "# medians \n",
    "filtered_scorecard[filtered_series_nums].median().round(decimals=2)"
   ]
  },
  {
   "cell_type": "code",
   "execution_count": 17,
   "metadata": {},
   "outputs": [
    {
     "output_type": "execute_result",
     "data": {
      "text/plain": "           UGDS  UG  NPT4_PUB  NPT4_PRIV  COSTT4_A  COSTT4_P  DEBT_MDN  \\\nregion                                                                   \n0        958.00 NaN   4275.00        NaN   6603.00       NaN   4000.00   \n1       1950.56 NaN  12354.85   22486.54  33191.08  20997.73  13383.27   \n2       2181.66 NaN  12001.71   18887.34  28122.56  19700.16  12634.52   \n3       2190.37 NaN   9976.71   18039.26  25030.60  18036.65  12285.85   \n4       1915.75 NaN  10983.61   17491.50  23714.61  17516.03  12615.67   \n5       2256.85 NaN   8578.44   17548.54  22735.48  17400.53  11602.27   \n6       2799.20 NaN   7963.91   17597.57  20978.70  18639.85  10357.73   \n7       2252.18 NaN  10506.79   17211.84  21943.45  17259.07  11210.90   \n8       3002.25 NaN   8202.50   19415.44  24587.94  20054.54  11358.81   \n9       1567.08 NaN   4698.42    6646.62  11178.83  10883.71   5661.23   \n\n        GRAD_DEBT_MDN  WDRAW_DEBT_MDN  count_nwne_p10  mn_earn_wne_p10  \\\nregion                                                                   \n0             4211.00             NaN             NaN              NaN   \n1            16938.81         7959.86             NaN              NaN   \n2            16694.23         7829.79             NaN              NaN   \n3            17675.52         7673.16             NaN              NaN   \n4            18421.02         8213.82             NaN              NaN   \n5            18083.18         7769.87             NaN              NaN   \n6            15278.78         6863.06             NaN              NaN   \n7            17158.56         7380.37             NaN              NaN   \n8            14946.89         7660.69             NaN              NaN   \n9             7946.50         4856.35             NaN              NaN   \n\n        md_earn_wne_p10  DEBT_MDN_SUPP  \nregion                                  \n0                   NaN        4000.00  \n1                   NaN       13413.67  \n2                   NaN       12679.18  \n3                   NaN       12302.75  \n4                   NaN       12619.59  \n5                   NaN       11661.30  \n6                   NaN       10247.46  \n7                   NaN       11168.93  \n8                   NaN       11435.28  \n9                   NaN        5815.13  ",
      "text/html": "<div>\n<style scoped>\n    .dataframe tbody tr th:only-of-type {\n        vertical-align: middle;\n    }\n\n    .dataframe tbody tr th {\n        vertical-align: top;\n    }\n\n    .dataframe thead th {\n        text-align: right;\n    }\n</style>\n<table border=\"1\" class=\"dataframe\">\n  <thead>\n    <tr style=\"text-align: right;\">\n      <th></th>\n      <th>UGDS</th>\n      <th>UG</th>\n      <th>NPT4_PUB</th>\n      <th>NPT4_PRIV</th>\n      <th>COSTT4_A</th>\n      <th>COSTT4_P</th>\n      <th>DEBT_MDN</th>\n      <th>GRAD_DEBT_MDN</th>\n      <th>WDRAW_DEBT_MDN</th>\n      <th>count_nwne_p10</th>\n      <th>mn_earn_wne_p10</th>\n      <th>md_earn_wne_p10</th>\n      <th>DEBT_MDN_SUPP</th>\n    </tr>\n    <tr>\n      <th>region</th>\n      <th></th>\n      <th></th>\n      <th></th>\n      <th></th>\n      <th></th>\n      <th></th>\n      <th></th>\n      <th></th>\n      <th></th>\n      <th></th>\n      <th></th>\n      <th></th>\n      <th></th>\n    </tr>\n  </thead>\n  <tbody>\n    <tr>\n      <th>0</th>\n      <td>958.00</td>\n      <td>NaN</td>\n      <td>4275.00</td>\n      <td>NaN</td>\n      <td>6603.00</td>\n      <td>NaN</td>\n      <td>4000.00</td>\n      <td>4211.00</td>\n      <td>NaN</td>\n      <td>NaN</td>\n      <td>NaN</td>\n      <td>NaN</td>\n      <td>4000.00</td>\n    </tr>\n    <tr>\n      <th>1</th>\n      <td>1950.56</td>\n      <td>NaN</td>\n      <td>12354.85</td>\n      <td>22486.54</td>\n      <td>33191.08</td>\n      <td>20997.73</td>\n      <td>13383.27</td>\n      <td>16938.81</td>\n      <td>7959.86</td>\n      <td>NaN</td>\n      <td>NaN</td>\n      <td>NaN</td>\n      <td>13413.67</td>\n    </tr>\n    <tr>\n      <th>2</th>\n      <td>2181.66</td>\n      <td>NaN</td>\n      <td>12001.71</td>\n      <td>18887.34</td>\n      <td>28122.56</td>\n      <td>19700.16</td>\n      <td>12634.52</td>\n      <td>16694.23</td>\n      <td>7829.79</td>\n      <td>NaN</td>\n      <td>NaN</td>\n      <td>NaN</td>\n      <td>12679.18</td>\n    </tr>\n    <tr>\n      <th>3</th>\n      <td>2190.37</td>\n      <td>NaN</td>\n      <td>9976.71</td>\n      <td>18039.26</td>\n      <td>25030.60</td>\n      <td>18036.65</td>\n      <td>12285.85</td>\n      <td>17675.52</td>\n      <td>7673.16</td>\n      <td>NaN</td>\n      <td>NaN</td>\n      <td>NaN</td>\n      <td>12302.75</td>\n    </tr>\n    <tr>\n      <th>4</th>\n      <td>1915.75</td>\n      <td>NaN</td>\n      <td>10983.61</td>\n      <td>17491.50</td>\n      <td>23714.61</td>\n      <td>17516.03</td>\n      <td>12615.67</td>\n      <td>18421.02</td>\n      <td>8213.82</td>\n      <td>NaN</td>\n      <td>NaN</td>\n      <td>NaN</td>\n      <td>12619.59</td>\n    </tr>\n    <tr>\n      <th>5</th>\n      <td>2256.85</td>\n      <td>NaN</td>\n      <td>8578.44</td>\n      <td>17548.54</td>\n      <td>22735.48</td>\n      <td>17400.53</td>\n      <td>11602.27</td>\n      <td>18083.18</td>\n      <td>7769.87</td>\n      <td>NaN</td>\n      <td>NaN</td>\n      <td>NaN</td>\n      <td>11661.30</td>\n    </tr>\n    <tr>\n      <th>6</th>\n      <td>2799.20</td>\n      <td>NaN</td>\n      <td>7963.91</td>\n      <td>17597.57</td>\n      <td>20978.70</td>\n      <td>18639.85</td>\n      <td>10357.73</td>\n      <td>15278.78</td>\n      <td>6863.06</td>\n      <td>NaN</td>\n      <td>NaN</td>\n      <td>NaN</td>\n      <td>10247.46</td>\n    </tr>\n    <tr>\n      <th>7</th>\n      <td>2252.18</td>\n      <td>NaN</td>\n      <td>10506.79</td>\n      <td>17211.84</td>\n      <td>21943.45</td>\n      <td>17259.07</td>\n      <td>11210.90</td>\n      <td>17158.56</td>\n      <td>7380.37</td>\n      <td>NaN</td>\n      <td>NaN</td>\n      <td>NaN</td>\n      <td>11168.93</td>\n    </tr>\n    <tr>\n      <th>8</th>\n      <td>3002.25</td>\n      <td>NaN</td>\n      <td>8202.50</td>\n      <td>19415.44</td>\n      <td>24587.94</td>\n      <td>20054.54</td>\n      <td>11358.81</td>\n      <td>14946.89</td>\n      <td>7660.69</td>\n      <td>NaN</td>\n      <td>NaN</td>\n      <td>NaN</td>\n      <td>11435.28</td>\n    </tr>\n    <tr>\n      <th>9</th>\n      <td>1567.08</td>\n      <td>NaN</td>\n      <td>4698.42</td>\n      <td>6646.62</td>\n      <td>11178.83</td>\n      <td>10883.71</td>\n      <td>5661.23</td>\n      <td>7946.50</td>\n      <td>4856.35</td>\n      <td>NaN</td>\n      <td>NaN</td>\n      <td>NaN</td>\n      <td>5815.13</td>\n    </tr>\n  </tbody>\n</table>\n</div>"
     },
     "metadata": {},
     "execution_count": 17
    }
   ],
   "source": [
    "# means separated by regions\n",
    "filtered_scorecard.groupby(['region'])[filtered_series_nums].mean().round(decimals=2)"
   ]
  },
  {
   "cell_type": "code",
   "execution_count": 18,
   "metadata": {},
   "outputs": [
    {
     "output_type": "execute_result",
     "data": {
      "text/plain": "         UGDS  UG  NPT4_PUB  NPT4_PRIV  COSTT4_A  COSTT4_P  DEBT_MDN  \\\nregion                                                                 \n0       958.0 NaN    4275.0        NaN    6603.0       NaN    4000.0   \n1       576.5 NaN   12268.0    21951.0   31101.0   19190.5   10767.0   \n2       427.0 NaN   12039.0    18109.0   24323.5   18757.0   10750.0   \n3       336.0 NaN    9501.0    18904.0   24375.0   17430.0   10500.0   \n4       463.0 NaN   10951.0    18242.0   22820.0   16582.5   11588.5   \n5       504.0 NaN    8018.5    17940.0   22347.0   16848.5   10250.0   \n6       350.0 NaN    7778.0    18180.0   20212.5   18114.0    9500.0   \n7       275.0 NaN   10131.0    17790.0   21932.0   17332.5    9972.0   \n8       461.5 NaN    7532.0    19195.0   22833.5   19185.0    9500.0   \n9       569.5 NaN    3785.5     6196.0   11103.5   11073.0    5500.0   \n\n        GRAD_DEBT_MDN  WDRAW_DEBT_MDN  count_nwne_p10  mn_earn_wne_p10  \\\nregion                                                                   \n0             4211.00             NaN             NaN              NaN   \n1            14675.25         7763.00             NaN              NaN   \n2            13725.25         6844.00             NaN              NaN   \n3            15312.00         6548.00             NaN              NaN   \n4            17285.00         8250.00             NaN              NaN   \n5            16655.25         7300.00             NaN              NaN   \n6            11991.50         5815.25             NaN              NaN   \n7            14072.00         7124.00             NaN              NaN   \n8            12000.00         6334.00             NaN              NaN   \n9             7516.50         5325.00             NaN              NaN   \n\n        md_earn_wne_p10  DEBT_MDN_SUPP  \nregion                                  \n0                   NaN         4000.0  \n1                   NaN        10892.0  \n2                   NaN        10861.0  \n3                   NaN        10559.0  \n4                   NaN        11588.5  \n5                   NaN        10296.0  \n6                   NaN         9500.0  \n7                   NaN         9888.5  \n8                   NaN         9500.0  \n9                   NaN         5500.0  ",
      "text/html": "<div>\n<style scoped>\n    .dataframe tbody tr th:only-of-type {\n        vertical-align: middle;\n    }\n\n    .dataframe tbody tr th {\n        vertical-align: top;\n    }\n\n    .dataframe thead th {\n        text-align: right;\n    }\n</style>\n<table border=\"1\" class=\"dataframe\">\n  <thead>\n    <tr style=\"text-align: right;\">\n      <th></th>\n      <th>UGDS</th>\n      <th>UG</th>\n      <th>NPT4_PUB</th>\n      <th>NPT4_PRIV</th>\n      <th>COSTT4_A</th>\n      <th>COSTT4_P</th>\n      <th>DEBT_MDN</th>\n      <th>GRAD_DEBT_MDN</th>\n      <th>WDRAW_DEBT_MDN</th>\n      <th>count_nwne_p10</th>\n      <th>mn_earn_wne_p10</th>\n      <th>md_earn_wne_p10</th>\n      <th>DEBT_MDN_SUPP</th>\n    </tr>\n    <tr>\n      <th>region</th>\n      <th></th>\n      <th></th>\n      <th></th>\n      <th></th>\n      <th></th>\n      <th></th>\n      <th></th>\n      <th></th>\n      <th></th>\n      <th></th>\n      <th></th>\n      <th></th>\n      <th></th>\n    </tr>\n  </thead>\n  <tbody>\n    <tr>\n      <th>0</th>\n      <td>958.0</td>\n      <td>NaN</td>\n      <td>4275.0</td>\n      <td>NaN</td>\n      <td>6603.0</td>\n      <td>NaN</td>\n      <td>4000.0</td>\n      <td>4211.00</td>\n      <td>NaN</td>\n      <td>NaN</td>\n      <td>NaN</td>\n      <td>NaN</td>\n      <td>4000.0</td>\n    </tr>\n    <tr>\n      <th>1</th>\n      <td>576.5</td>\n      <td>NaN</td>\n      <td>12268.0</td>\n      <td>21951.0</td>\n      <td>31101.0</td>\n      <td>19190.5</td>\n      <td>10767.0</td>\n      <td>14675.25</td>\n      <td>7763.00</td>\n      <td>NaN</td>\n      <td>NaN</td>\n      <td>NaN</td>\n      <td>10892.0</td>\n    </tr>\n    <tr>\n      <th>2</th>\n      <td>427.0</td>\n      <td>NaN</td>\n      <td>12039.0</td>\n      <td>18109.0</td>\n      <td>24323.5</td>\n      <td>18757.0</td>\n      <td>10750.0</td>\n      <td>13725.25</td>\n      <td>6844.00</td>\n      <td>NaN</td>\n      <td>NaN</td>\n      <td>NaN</td>\n      <td>10861.0</td>\n    </tr>\n    <tr>\n      <th>3</th>\n      <td>336.0</td>\n      <td>NaN</td>\n      <td>9501.0</td>\n      <td>18904.0</td>\n      <td>24375.0</td>\n      <td>17430.0</td>\n      <td>10500.0</td>\n      <td>15312.00</td>\n      <td>6548.00</td>\n      <td>NaN</td>\n      <td>NaN</td>\n      <td>NaN</td>\n      <td>10559.0</td>\n    </tr>\n    <tr>\n      <th>4</th>\n      <td>463.0</td>\n      <td>NaN</td>\n      <td>10951.0</td>\n      <td>18242.0</td>\n      <td>22820.0</td>\n      <td>16582.5</td>\n      <td>11588.5</td>\n      <td>17285.00</td>\n      <td>8250.00</td>\n      <td>NaN</td>\n      <td>NaN</td>\n      <td>NaN</td>\n      <td>11588.5</td>\n    </tr>\n    <tr>\n      <th>5</th>\n      <td>504.0</td>\n      <td>NaN</td>\n      <td>8018.5</td>\n      <td>17940.0</td>\n      <td>22347.0</td>\n      <td>16848.5</td>\n      <td>10250.0</td>\n      <td>16655.25</td>\n      <td>7300.00</td>\n      <td>NaN</td>\n      <td>NaN</td>\n      <td>NaN</td>\n      <td>10296.0</td>\n    </tr>\n    <tr>\n      <th>6</th>\n      <td>350.0</td>\n      <td>NaN</td>\n      <td>7778.0</td>\n      <td>18180.0</td>\n      <td>20212.5</td>\n      <td>18114.0</td>\n      <td>9500.0</td>\n      <td>11991.50</td>\n      <td>5815.25</td>\n      <td>NaN</td>\n      <td>NaN</td>\n      <td>NaN</td>\n      <td>9500.0</td>\n    </tr>\n    <tr>\n      <th>7</th>\n      <td>275.0</td>\n      <td>NaN</td>\n      <td>10131.0</td>\n      <td>17790.0</td>\n      <td>21932.0</td>\n      <td>17332.5</td>\n      <td>9972.0</td>\n      <td>14072.00</td>\n      <td>7124.00</td>\n      <td>NaN</td>\n      <td>NaN</td>\n      <td>NaN</td>\n      <td>9888.5</td>\n    </tr>\n    <tr>\n      <th>8</th>\n      <td>461.5</td>\n      <td>NaN</td>\n      <td>7532.0</td>\n      <td>19195.0</td>\n      <td>22833.5</td>\n      <td>19185.0</td>\n      <td>9500.0</td>\n      <td>12000.00</td>\n      <td>6334.00</td>\n      <td>NaN</td>\n      <td>NaN</td>\n      <td>NaN</td>\n      <td>9500.0</td>\n    </tr>\n    <tr>\n      <th>9</th>\n      <td>569.5</td>\n      <td>NaN</td>\n      <td>3785.5</td>\n      <td>6196.0</td>\n      <td>11103.5</td>\n      <td>11073.0</td>\n      <td>5500.0</td>\n      <td>7516.50</td>\n      <td>5325.00</td>\n      <td>NaN</td>\n      <td>NaN</td>\n      <td>NaN</td>\n      <td>5500.0</td>\n    </tr>\n  </tbody>\n</table>\n</div>"
     },
     "metadata": {},
     "execution_count": 18
    }
   ],
   "source": [
    "# medians separated by regions\n",
    "filtered_scorecard.groupby(['region'])[filtered_series_nums].median().round(decimals=2)"
   ]
  },
  {
   "cell_type": "code",
   "execution_count": null,
   "metadata": {},
   "outputs": [],
   "source": []
  }
 ]
}