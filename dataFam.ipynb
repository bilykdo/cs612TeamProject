{
 "metadata": {
  "language_info": {
   "codemirror_mode": {
    "name": "ipython",
    "version": 3
   },
   "file_extension": ".py",
   "mimetype": "text/x-python",
   "name": "python",
   "nbconvert_exporter": "python",
   "pygments_lexer": "ipython3",
   "version": 3
  },
  "orig_nbformat": 2,
  "kernelspec": {
   "name": "python_defaultSpec_1597281492000",
   "display_name": "Python 3.8.3 64-bit"
  }
 },
 "nbformat": 4,
 "nbformat_minor": 2,
 "cells": [
  {
   "cell_type": "code",
   "execution_count": 9,
   "metadata": {},
   "outputs": [],
   "source": [
    "import numpy as np\n",
    "import pandas as pd\n",
    "import statsmodels.api as sm\n",
    "from re import sub\n",
    "import matplotlib.pyplot as plt\n",
    "from decimal import Decimal\n",
    "import warnings\n",
    "import seaborn as sns\n",
    "sns.set()\n",
    "\n",
    "from sklearn.cluster import KMeans\n",
    "from sklearn.linear_model import LinearRegression\n",
    "warnings.filterwarnings('ignore')"
   ]
  },
  {
   "cell_type": "code",
   "execution_count": 3,
   "metadata": {},
   "outputs": [
    {
     "output_type": "execute_result",
     "data": {
      "text/plain": "     Undergraduate Major Starting Median Salary Mid-Career Median Salary  \\\n0             Accounting             $46,000.00               $77,100.00   \n1  Aerospace Engineering             $57,700.00              $101,000.00   \n2            Agriculture             $42,600.00               $71,900.00   \n3           Anthropology             $36,800.00               $61,500.00   \n4           Architecture             $41,600.00               $76,800.00   \n\n   Percent change from Starting to Mid-Career Salary  \\\n0                                               67.6   \n1                                               75.0   \n2                                               68.8   \n3                                               67.1   \n4                                               84.6   \n\n  Mid-Career 10th Percentile Salary Mid-Career 25th Percentile Salary  \\\n0                        $42,200.00                        $56,100.00   \n1                        $64,300.00                        $82,100.00   \n2                        $36,300.00                        $52,100.00   \n3                        $33,800.00                        $45,500.00   \n4                        $50,600.00                        $62,200.00   \n\n  Mid-Career 75th Percentile Salary Mid-Career 90th Percentile Salary  \n0                       $108,000.00                       $152,000.00  \n1                       $127,000.00                       $161,000.00  \n2                        $96,300.00                       $150,000.00  \n3                        $89,300.00                       $138,000.00  \n4                        $97,000.00                       $136,000.00  ",
      "text/html": "<div>\n<style scoped>\n    .dataframe tbody tr th:only-of-type {\n        vertical-align: middle;\n    }\n\n    .dataframe tbody tr th {\n        vertical-align: top;\n    }\n\n    .dataframe thead th {\n        text-align: right;\n    }\n</style>\n<table border=\"1\" class=\"dataframe\">\n  <thead>\n    <tr style=\"text-align: right;\">\n      <th></th>\n      <th>Undergraduate Major</th>\n      <th>Starting Median Salary</th>\n      <th>Mid-Career Median Salary</th>\n      <th>Percent change from Starting to Mid-Career Salary</th>\n      <th>Mid-Career 10th Percentile Salary</th>\n      <th>Mid-Career 25th Percentile Salary</th>\n      <th>Mid-Career 75th Percentile Salary</th>\n      <th>Mid-Career 90th Percentile Salary</th>\n    </tr>\n  </thead>\n  <tbody>\n    <tr>\n      <th>0</th>\n      <td>Accounting</td>\n      <td>$46,000.00</td>\n      <td>$77,100.00</td>\n      <td>67.6</td>\n      <td>$42,200.00</td>\n      <td>$56,100.00</td>\n      <td>$108,000.00</td>\n      <td>$152,000.00</td>\n    </tr>\n    <tr>\n      <th>1</th>\n      <td>Aerospace Engineering</td>\n      <td>$57,700.00</td>\n      <td>$101,000.00</td>\n      <td>75.0</td>\n      <td>$64,300.00</td>\n      <td>$82,100.00</td>\n      <td>$127,000.00</td>\n      <td>$161,000.00</td>\n    </tr>\n    <tr>\n      <th>2</th>\n      <td>Agriculture</td>\n      <td>$42,600.00</td>\n      <td>$71,900.00</td>\n      <td>68.8</td>\n      <td>$36,300.00</td>\n      <td>$52,100.00</td>\n      <td>$96,300.00</td>\n      <td>$150,000.00</td>\n    </tr>\n    <tr>\n      <th>3</th>\n      <td>Anthropology</td>\n      <td>$36,800.00</td>\n      <td>$61,500.00</td>\n      <td>67.1</td>\n      <td>$33,800.00</td>\n      <td>$45,500.00</td>\n      <td>$89,300.00</td>\n      <td>$138,000.00</td>\n    </tr>\n    <tr>\n      <th>4</th>\n      <td>Architecture</td>\n      <td>$41,600.00</td>\n      <td>$76,800.00</td>\n      <td>84.6</td>\n      <td>$50,600.00</td>\n      <td>$62,200.00</td>\n      <td>$97,000.00</td>\n      <td>$136,000.00</td>\n    </tr>\n  </tbody>\n</table>\n</div>"
     },
     "metadata": {},
     "execution_count": 3
    }
   ],
   "source": [
    "data_degree_that_pay_back = pd.read_csv('datasets_1189_2137_degrees-that-pay-back.csv')\n",
    "data_degree_that_pay_back.head()"
   ]
  },
  {
   "cell_type": "code",
   "execution_count": null,
   "metadata": {},
   "outputs": [],
   "source": [
    "for col in range(1,2):\n",
    "    for i in range(len(data_degree_that_pay_back)):\n",
    "        data_degree_that_pay_back.iloc[i][col] = sub(r'[^\\d.]', '', data_degree_that_pay_back.iloc[i][col])\n",
    "        "
   ]
  },
  {
   "cell_type": "code",
   "execution_count": 4,
   "metadata": {},
   "outputs": [
    {
     "output_type": "execute_result",
     "data": {
      "text/plain": "                                    School Name  School Type  \\\n0   Massachusetts Institute of Technology (MIT)  Engineering   \n1      California Institute of Technology (CIT)  Engineering   \n2                           Harvey Mudd College  Engineering   \n3  Polytechnic University of New York, Brooklyn  Engineering   \n4                                  Cooper Union  Engineering   \n\n  Starting Median Salary Mid-Career Median Salary  \\\n0             $72,200.00              $126,000.00   \n1             $75,500.00              $123,000.00   \n2             $71,800.00              $122,000.00   \n3             $62,400.00              $114,000.00   \n4             $62,200.00              $114,000.00   \n\n  Mid-Career 10th Percentile Salary Mid-Career 25th Percentile Salary  \\\n0                        $76,800.00                        $99,200.00   \n1                               NaN                       $104,000.00   \n2                               NaN                        $96,000.00   \n3                        $66,800.00                        $94,300.00   \n4                               NaN                        $80,200.00   \n\n  Mid-Career 75th Percentile Salary Mid-Career 90th Percentile Salary  \n0                       $168,000.00                       $220,000.00  \n1                       $161,000.00                               NaN  \n2                       $180,000.00                               NaN  \n3                       $143,000.00                       $190,000.00  \n4                       $142,000.00                               NaN  ",
      "text/html": "<div>\n<style scoped>\n    .dataframe tbody tr th:only-of-type {\n        vertical-align: middle;\n    }\n\n    .dataframe tbody tr th {\n        vertical-align: top;\n    }\n\n    .dataframe thead th {\n        text-align: right;\n    }\n</style>\n<table border=\"1\" class=\"dataframe\">\n  <thead>\n    <tr style=\"text-align: right;\">\n      <th></th>\n      <th>School Name</th>\n      <th>School Type</th>\n      <th>Starting Median Salary</th>\n      <th>Mid-Career Median Salary</th>\n      <th>Mid-Career 10th Percentile Salary</th>\n      <th>Mid-Career 25th Percentile Salary</th>\n      <th>Mid-Career 75th Percentile Salary</th>\n      <th>Mid-Career 90th Percentile Salary</th>\n    </tr>\n  </thead>\n  <tbody>\n    <tr>\n      <th>0</th>\n      <td>Massachusetts Institute of Technology (MIT)</td>\n      <td>Engineering</td>\n      <td>$72,200.00</td>\n      <td>$126,000.00</td>\n      <td>$76,800.00</td>\n      <td>$99,200.00</td>\n      <td>$168,000.00</td>\n      <td>$220,000.00</td>\n    </tr>\n    <tr>\n      <th>1</th>\n      <td>California Institute of Technology (CIT)</td>\n      <td>Engineering</td>\n      <td>$75,500.00</td>\n      <td>$123,000.00</td>\n      <td>NaN</td>\n      <td>$104,000.00</td>\n      <td>$161,000.00</td>\n      <td>NaN</td>\n    </tr>\n    <tr>\n      <th>2</th>\n      <td>Harvey Mudd College</td>\n      <td>Engineering</td>\n      <td>$71,800.00</td>\n      <td>$122,000.00</td>\n      <td>NaN</td>\n      <td>$96,000.00</td>\n      <td>$180,000.00</td>\n      <td>NaN</td>\n    </tr>\n    <tr>\n      <th>3</th>\n      <td>Polytechnic University of New York, Brooklyn</td>\n      <td>Engineering</td>\n      <td>$62,400.00</td>\n      <td>$114,000.00</td>\n      <td>$66,800.00</td>\n      <td>$94,300.00</td>\n      <td>$143,000.00</td>\n      <td>$190,000.00</td>\n    </tr>\n    <tr>\n      <th>4</th>\n      <td>Cooper Union</td>\n      <td>Engineering</td>\n      <td>$62,200.00</td>\n      <td>$114,000.00</td>\n      <td>NaN</td>\n      <td>$80,200.00</td>\n      <td>$142,000.00</td>\n      <td>NaN</td>\n    </tr>\n  </tbody>\n</table>\n</div>"
     },
     "metadata": {},
     "execution_count": 4
    }
   ],
   "source": [
    "data_salaries_by_college = pd.read_csv('datasets_1189_2137_salaries-by-college-type.csv')\n",
    "data_salaries_by_college.head()"
   ]
  },
  {
   "cell_type": "code",
   "execution_count": 5,
   "metadata": {},
   "outputs": [
    {
     "output_type": "execute_result",
     "data": {
      "text/plain": "                                School Name      Region  \\\n0                       Stanford University  California   \n1  California Institute of Technology (CIT)  California   \n2                       Harvey Mudd College  California   \n3        University of California, Berkeley  California   \n4                        Occidental College  California   \n\n  Starting Median Salary Mid-Career Median Salary  \\\n0             $70,400.00              $129,000.00   \n1             $75,500.00              $123,000.00   \n2             $71,800.00              $122,000.00   \n3             $59,900.00              $112,000.00   \n4             $51,900.00              $105,000.00   \n\n  Mid-Career 10th Percentile Salary Mid-Career 25th Percentile Salary  \\\n0                        $68,400.00                        $93,100.00   \n1                               NaN                       $104,000.00   \n2                               NaN                        $96,000.00   \n3                        $59,500.00                        $81,000.00   \n4                               NaN                        $54,800.00   \n\n  Mid-Career 75th Percentile Salary Mid-Career 90th Percentile Salary  \n0                       $184,000.00                       $257,000.00  \n1                       $161,000.00                               NaN  \n2                       $180,000.00                               NaN  \n3                       $149,000.00                       $201,000.00  \n4                       $157,000.00                               NaN  ",
      "text/html": "<div>\n<style scoped>\n    .dataframe tbody tr th:only-of-type {\n        vertical-align: middle;\n    }\n\n    .dataframe tbody tr th {\n        vertical-align: top;\n    }\n\n    .dataframe thead th {\n        text-align: right;\n    }\n</style>\n<table border=\"1\" class=\"dataframe\">\n  <thead>\n    <tr style=\"text-align: right;\">\n      <th></th>\n      <th>School Name</th>\n      <th>Region</th>\n      <th>Starting Median Salary</th>\n      <th>Mid-Career Median Salary</th>\n      <th>Mid-Career 10th Percentile Salary</th>\n      <th>Mid-Career 25th Percentile Salary</th>\n      <th>Mid-Career 75th Percentile Salary</th>\n      <th>Mid-Career 90th Percentile Salary</th>\n    </tr>\n  </thead>\n  <tbody>\n    <tr>\n      <th>0</th>\n      <td>Stanford University</td>\n      <td>California</td>\n      <td>$70,400.00</td>\n      <td>$129,000.00</td>\n      <td>$68,400.00</td>\n      <td>$93,100.00</td>\n      <td>$184,000.00</td>\n      <td>$257,000.00</td>\n    </tr>\n    <tr>\n      <th>1</th>\n      <td>California Institute of Technology (CIT)</td>\n      <td>California</td>\n      <td>$75,500.00</td>\n      <td>$123,000.00</td>\n      <td>NaN</td>\n      <td>$104,000.00</td>\n      <td>$161,000.00</td>\n      <td>NaN</td>\n    </tr>\n    <tr>\n      <th>2</th>\n      <td>Harvey Mudd College</td>\n      <td>California</td>\n      <td>$71,800.00</td>\n      <td>$122,000.00</td>\n      <td>NaN</td>\n      <td>$96,000.00</td>\n      <td>$180,000.00</td>\n      <td>NaN</td>\n    </tr>\n    <tr>\n      <th>3</th>\n      <td>University of California, Berkeley</td>\n      <td>California</td>\n      <td>$59,900.00</td>\n      <td>$112,000.00</td>\n      <td>$59,500.00</td>\n      <td>$81,000.00</td>\n      <td>$149,000.00</td>\n      <td>$201,000.00</td>\n    </tr>\n    <tr>\n      <th>4</th>\n      <td>Occidental College</td>\n      <td>California</td>\n      <td>$51,900.00</td>\n      <td>$105,000.00</td>\n      <td>NaN</td>\n      <td>$54,800.00</td>\n      <td>$157,000.00</td>\n      <td>NaN</td>\n    </tr>\n  </tbody>\n</table>\n</div>"
     },
     "metadata": {},
     "execution_count": 5
    }
   ],
   "source": [
    "data_salaries_by_region = pd.read_csv('datasets_1189_2137_salaries-by-region.csv')\n",
    "data_salaries_by_region.head()"
   ]
  },
  {
   "cell_type": "code",
   "execution_count": 13,
   "metadata": {},
   "outputs": [
    {
     "output_type": "execute_result",
     "data": {
      "text/plain": "             P_UNITID       P_OPEID6  \\\ncount   205544.000000  209368.000000   \nunique            NaN            NaN   \ntop               NaN            NaN   \nfreq              NaN            NaN   \nmean    207108.115532    6800.819079   \nstd      91651.096087    9021.444745   \nmin     100654.000000    1002.000000   \n25%     150604.000000    2076.000000   \n50%     189578.500000    3223.000000   \n75%     224642.000000    6960.000000   \nmax     490018.000000   42817.000000   \n\n                                         P_INSTNM P_CONTROL         P_MAIN  \\\ncount                                      209368    209368  209368.000000   \nunique                                       7715         4            NaN   \ntop     Pennsylvania State University-Main Campus    Public            NaN   \nfreq                                          471    118240            NaN   \nmean                                          NaN       NaN       0.921478   \nstd                                           NaN       NaN       0.268992   \nmin                                           NaN       NaN       0.000000   \n25%                                           NaN       NaN       1.000000   \n50%                                           NaN       NaN       1.000000   \n75%                                           NaN       NaN       1.000000   \nmax                                           NaN       NaN       1.000000   \n\n            P_CIPCODE                                          P_CIPDESC  \\\ncount   209368.000000                                             209368   \nunique            NaN                                                395   \ntop               NaN  Business Administration, Management and Operat...   \nfreq              NaN                                               6623   \nmean      3354.690922                                                NaN   \nstd       1711.217342                                                NaN   \nmin        100.000000                                                NaN   \n25%       1500.000000                                                NaN   \n50%       4005.000000                                                NaN   \n75%       5107.000000                                                NaN   \nmax       6005.000000                                                NaN   \n\n            P_CREDLEV         P_CREDDESC            P_COUNT  \\\ncount   209368.000000             209368             209368   \nunique            NaN                  8                519   \ntop               NaN  Bachelors Degree  PrivacySuppressed   \nfreq              NaN              67358             198554   \nmean         3.127808                NaN                NaN   \nstd          1.825476                NaN                NaN   \nmin          1.000000                NaN                NaN   \n25%          2.000000                NaN                NaN   \n50%          3.000000                NaN                NaN   \n75%          5.000000                NaN                NaN   \nmax          8.000000                NaN                NaN   \n\n             P_DEBTMEDIAN  P_DEBTPAYMENT10YR         P_DEBTMEAN  \\\ncount              209368             209368             209368   \nunique              16181               1720              29930   \ntop     PrivacySuppressed  PrivacySuppressed  PrivacySuppressed   \nfreq               160006             160006             138645   \nmean                  NaN                NaN                NaN   \nstd                   NaN                NaN                NaN   \nmin                   NaN                NaN                NaN   \n25%                   NaN                NaN                NaN   \n50%                   NaN                NaN                NaN   \n75%                   NaN                NaN                NaN   \nmax                   NaN                NaN                NaN   \n\n        P_TITLEIVCOUNT  P_EARNINGSCOUNT  P_MD_EARN_WNE  P_IPEDSCOUNT1  \\\ncount              0.0              0.0            0.0  183685.000000   \nunique             NaN              NaN            NaN            NaN   \ntop                NaN              NaN            NaN            NaN   \nfreq               NaN              NaN            NaN            NaN   \nmean               NaN              NaN            NaN      27.507722   \nstd                NaN              NaN            NaN      85.627790   \nmin                NaN              NaN            NaN       0.000000   \n25%                NaN              NaN            NaN       2.000000   \n50%                NaN              NaN            NaN       8.000000   \n75%                NaN              NaN            NaN      25.000000   \nmax                NaN              NaN            NaN    8831.000000   \n\n        P_IPEDSCOUNT2  \ncount   183733.000000  \nunique            NaN  \ntop               NaN  \nfreq              NaN  \nmean        27.657536  \nstd         87.544988  \nmin          0.000000  \n25%          2.000000  \n50%          8.000000  \n75%         25.000000  \nmax       8911.000000  ",
      "text/html": "<div>\n<style scoped>\n    .dataframe tbody tr th:only-of-type {\n        vertical-align: middle;\n    }\n\n    .dataframe tbody tr th {\n        vertical-align: top;\n    }\n\n    .dataframe thead th {\n        text-align: right;\n    }\n</style>\n<table border=\"1\" class=\"dataframe\">\n  <thead>\n    <tr style=\"text-align: right;\">\n      <th></th>\n      <th>P_UNITID</th>\n      <th>P_OPEID6</th>\n      <th>P_INSTNM</th>\n      <th>P_CONTROL</th>\n      <th>P_MAIN</th>\n      <th>P_CIPCODE</th>\n      <th>P_CIPDESC</th>\n      <th>P_CREDLEV</th>\n      <th>P_CREDDESC</th>\n      <th>P_COUNT</th>\n      <th>P_DEBTMEDIAN</th>\n      <th>P_DEBTPAYMENT10YR</th>\n      <th>P_DEBTMEAN</th>\n      <th>P_TITLEIVCOUNT</th>\n      <th>P_EARNINGSCOUNT</th>\n      <th>P_MD_EARN_WNE</th>\n      <th>P_IPEDSCOUNT1</th>\n      <th>P_IPEDSCOUNT2</th>\n    </tr>\n  </thead>\n  <tbody>\n    <tr>\n      <th>count</th>\n      <td>205544.000000</td>\n      <td>209368.000000</td>\n      <td>209368</td>\n      <td>209368</td>\n      <td>209368.000000</td>\n      <td>209368.000000</td>\n      <td>209368</td>\n      <td>209368.000000</td>\n      <td>209368</td>\n      <td>209368</td>\n      <td>209368</td>\n      <td>209368</td>\n      <td>209368</td>\n      <td>0.0</td>\n      <td>0.0</td>\n      <td>0.0</td>\n      <td>183685.000000</td>\n      <td>183733.000000</td>\n    </tr>\n    <tr>\n      <th>unique</th>\n      <td>NaN</td>\n      <td>NaN</td>\n      <td>7715</td>\n      <td>4</td>\n      <td>NaN</td>\n      <td>NaN</td>\n      <td>395</td>\n      <td>NaN</td>\n      <td>8</td>\n      <td>519</td>\n      <td>16181</td>\n      <td>1720</td>\n      <td>29930</td>\n      <td>NaN</td>\n      <td>NaN</td>\n      <td>NaN</td>\n      <td>NaN</td>\n      <td>NaN</td>\n    </tr>\n    <tr>\n      <th>top</th>\n      <td>NaN</td>\n      <td>NaN</td>\n      <td>Pennsylvania State University-Main Campus</td>\n      <td>Public</td>\n      <td>NaN</td>\n      <td>NaN</td>\n      <td>Business Administration, Management and Operat...</td>\n      <td>NaN</td>\n      <td>Bachelors Degree</td>\n      <td>PrivacySuppressed</td>\n      <td>PrivacySuppressed</td>\n      <td>PrivacySuppressed</td>\n      <td>PrivacySuppressed</td>\n      <td>NaN</td>\n      <td>NaN</td>\n      <td>NaN</td>\n      <td>NaN</td>\n      <td>NaN</td>\n    </tr>\n    <tr>\n      <th>freq</th>\n      <td>NaN</td>\n      <td>NaN</td>\n      <td>471</td>\n      <td>118240</td>\n      <td>NaN</td>\n      <td>NaN</td>\n      <td>6623</td>\n      <td>NaN</td>\n      <td>67358</td>\n      <td>198554</td>\n      <td>160006</td>\n      <td>160006</td>\n      <td>138645</td>\n      <td>NaN</td>\n      <td>NaN</td>\n      <td>NaN</td>\n      <td>NaN</td>\n      <td>NaN</td>\n    </tr>\n    <tr>\n      <th>mean</th>\n      <td>207108.115532</td>\n      <td>6800.819079</td>\n      <td>NaN</td>\n      <td>NaN</td>\n      <td>0.921478</td>\n      <td>3354.690922</td>\n      <td>NaN</td>\n      <td>3.127808</td>\n      <td>NaN</td>\n      <td>NaN</td>\n      <td>NaN</td>\n      <td>NaN</td>\n      <td>NaN</td>\n      <td>NaN</td>\n      <td>NaN</td>\n      <td>NaN</td>\n      <td>27.507722</td>\n      <td>27.657536</td>\n    </tr>\n    <tr>\n      <th>std</th>\n      <td>91651.096087</td>\n      <td>9021.444745</td>\n      <td>NaN</td>\n      <td>NaN</td>\n      <td>0.268992</td>\n      <td>1711.217342</td>\n      <td>NaN</td>\n      <td>1.825476</td>\n      <td>NaN</td>\n      <td>NaN</td>\n      <td>NaN</td>\n      <td>NaN</td>\n      <td>NaN</td>\n      <td>NaN</td>\n      <td>NaN</td>\n      <td>NaN</td>\n      <td>85.627790</td>\n      <td>87.544988</td>\n    </tr>\n    <tr>\n      <th>min</th>\n      <td>100654.000000</td>\n      <td>1002.000000</td>\n      <td>NaN</td>\n      <td>NaN</td>\n      <td>0.000000</td>\n      <td>100.000000</td>\n      <td>NaN</td>\n      <td>1.000000</td>\n      <td>NaN</td>\n      <td>NaN</td>\n      <td>NaN</td>\n      <td>NaN</td>\n      <td>NaN</td>\n      <td>NaN</td>\n      <td>NaN</td>\n      <td>NaN</td>\n      <td>0.000000</td>\n      <td>0.000000</td>\n    </tr>\n    <tr>\n      <th>25%</th>\n      <td>150604.000000</td>\n      <td>2076.000000</td>\n      <td>NaN</td>\n      <td>NaN</td>\n      <td>1.000000</td>\n      <td>1500.000000</td>\n      <td>NaN</td>\n      <td>2.000000</td>\n      <td>NaN</td>\n      <td>NaN</td>\n      <td>NaN</td>\n      <td>NaN</td>\n      <td>NaN</td>\n      <td>NaN</td>\n      <td>NaN</td>\n      <td>NaN</td>\n      <td>2.000000</td>\n      <td>2.000000</td>\n    </tr>\n    <tr>\n      <th>50%</th>\n      <td>189578.500000</td>\n      <td>3223.000000</td>\n      <td>NaN</td>\n      <td>NaN</td>\n      <td>1.000000</td>\n      <td>4005.000000</td>\n      <td>NaN</td>\n      <td>3.000000</td>\n      <td>NaN</td>\n      <td>NaN</td>\n      <td>NaN</td>\n      <td>NaN</td>\n      <td>NaN</td>\n      <td>NaN</td>\n      <td>NaN</td>\n      <td>NaN</td>\n      <td>8.000000</td>\n      <td>8.000000</td>\n    </tr>\n    <tr>\n      <th>75%</th>\n      <td>224642.000000</td>\n      <td>6960.000000</td>\n      <td>NaN</td>\n      <td>NaN</td>\n      <td>1.000000</td>\n      <td>5107.000000</td>\n      <td>NaN</td>\n      <td>5.000000</td>\n      <td>NaN</td>\n      <td>NaN</td>\n      <td>NaN</td>\n      <td>NaN</td>\n      <td>NaN</td>\n      <td>NaN</td>\n      <td>NaN</td>\n      <td>NaN</td>\n      <td>25.000000</td>\n      <td>25.000000</td>\n    </tr>\n    <tr>\n      <th>max</th>\n      <td>490018.000000</td>\n      <td>42817.000000</td>\n      <td>NaN</td>\n      <td>NaN</td>\n      <td>1.000000</td>\n      <td>6005.000000</td>\n      <td>NaN</td>\n      <td>8.000000</td>\n      <td>NaN</td>\n      <td>NaN</td>\n      <td>NaN</td>\n      <td>NaN</td>\n      <td>NaN</td>\n      <td>NaN</td>\n      <td>NaN</td>\n      <td>NaN</td>\n      <td>8831.000000</td>\n      <td>8911.000000</td>\n    </tr>\n  </tbody>\n</table>\n</div>"
     },
     "metadata": {},
     "execution_count": 13
    }
   ],
   "source": [
    "data_field_of_study = pd.read_csv('FieldOfStudyData1415_1516_PP.csv')\n",
    "data_field_of_study.describe(include= 'all')"
   ]
  },
  {
   "cell_type": "code",
   "execution_count": null,
   "metadata": {},
   "outputs": [],
   "source": []
  }
 ]
}