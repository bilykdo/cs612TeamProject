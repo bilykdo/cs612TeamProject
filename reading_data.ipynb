{
 "metadata": {
  "language_info": {
   "codemirror_mode": {
    "name": "ipython",
    "version": 3
   },
   "file_extension": ".py",
   "mimetype": "text/x-python",
   "name": "python",
   "nbconvert_exporter": "python",
   "pygments_lexer": "ipython3",
   "version": "3.8.2-final"
  },
  "orig_nbformat": 2,
  "kernelspec": {
   "name": "python38264bit12f136fb171d482eacdd7ed7b3657ecc",
   "display_name": "Python 3.8.2 64-bit"
  }
 },
 "nbformat": 4,
 "nbformat_minor": 2,
 "cells": [
  {
   "cell_type": "code",
   "execution_count": 12,
   "metadata": {},
   "outputs": [],
   "source": [
    "import pandas as pd"
   ]
  },
  {
   "cell_type": "code",
   "execution_count": 13,
   "metadata": {},
   "outputs": [],
   "source": [
    "colleges = pd.read_csv('First10RowsTest.csv')"
   ]
  },
  {
   "cell_type": "code",
   "execution_count": 14,
   "metadata": {},
   "outputs": [
    {
     "output_type": "execute_result",
     "data": {
      "text/plain": "   P_UNITID  P_OPEID6                  P_INSTNM P_CONTROL  P_MAIN  P_CIPCODE  \\\n0    100654      1002  Alabama A & M University    Public       1        100   \n1    100654      1002  Alabama A & M University    Public       1        101   \n2    100654      1002  Alabama A & M University    Public       1        109   \n3    100654      1002  Alabama A & M University    Public       1        110   \n4    100654      1002  Alabama A & M University    Public       1        110   \n5    100654      1002  Alabama A & M University    Public       1        110   \n6    100654      1002  Alabama A & M University    Public       1        111   \n7    100654      1002  Alabama A & M University    Public       1        199   \n8    100654      1002  Alabama A & M University    Public       1        199   \n\n                                           P_CIPDESC  P_CREDLEV  \\\n0                              Agriculture, General.          3   \n1              Agricultural Business and Management.          3   \n2                                   Animal Sciences.          3   \n3                       Food Science and Technology.          3   \n4                       Food Science and Technology.          5   \n5                       Food Science and Technology.          6   \n6                                    Plant Sciences.          3   \n7  Agriculture, Agriculture Operations, and Relat...          3   \n8  Agriculture, Agriculture Operations, and Relat...          5   \n\n          P_CREDDESC            P_COUNT       P_DEBTMEDIAN  P_DEBTPAYMENT10YR  \\\n0  Bachelors Degree  PrivacySuppressed  PrivacySuppressed  PrivacySuppressed   \n1  Bachelors Degree  PrivacySuppressed  PrivacySuppressed  PrivacySuppressed   \n2  Bachelors Degree  PrivacySuppressed  PrivacySuppressed  PrivacySuppressed   \n3  Bachelors Degree  PrivacySuppressed  PrivacySuppressed  PrivacySuppressed   \n4    Master's Degree                 15  PrivacySuppressed  PrivacySuppressed   \n5    Doctoral Degree  PrivacySuppressed  PrivacySuppressed  PrivacySuppressed   \n6  Bachelors Degree  PrivacySuppressed  PrivacySuppressed  PrivacySuppressed   \n7  Bachelors Degree  PrivacySuppressed  PrivacySuppressed  PrivacySuppressed   \n8    Master's Degree  PrivacySuppressed  PrivacySuppressed  PrivacySuppressed   \n\n          P_DEBTMEAN     P_TITLEIVCOUNT    P_EARNINGSCOUNT      P_MD_EARN_WNE  \\\n0  PrivacySuppressed  PrivacySuppressed  PrivacySuppressed  PrivacySuppressed   \n1  PrivacySuppressed  PrivacySuppressed  PrivacySuppressed  PrivacySuppressed   \n2              31066  PrivacySuppressed  PrivacySuppressed  PrivacySuppressed   \n3  PrivacySuppressed  PrivacySuppressed  PrivacySuppressed  PrivacySuppressed   \n4              61527  PrivacySuppressed  PrivacySuppressed  PrivacySuppressed   \n5  PrivacySuppressed  PrivacySuppressed  PrivacySuppressed  PrivacySuppressed   \n6  PrivacySuppressed  PrivacySuppressed  PrivacySuppressed  PrivacySuppressed   \n7  PrivacySuppressed  PrivacySuppressed  PrivacySuppressed  PrivacySuppressed   \n8  PrivacySuppressed  PrivacySuppressed  PrivacySuppressed  PrivacySuppressed   \n\n   P_IPEDSCOUNT1  P_IPEDSCOUNT2  \n0            4.0            NaN  \n1            NaN            NaN  \n2            7.0            6.0  \n3            5.0            8.0  \n4            9.0           10.0  \n5            1.0            4.0  \n6            NaN            NaN  \n7            3.0            3.0  \n8            7.0            8.0  ",
      "text/html": "<div>\n<style scoped>\n    .dataframe tbody tr th:only-of-type {\n        vertical-align: middle;\n    }\n\n    .dataframe tbody tr th {\n        vertical-align: top;\n    }\n\n    .dataframe thead th {\n        text-align: right;\n    }\n</style>\n<table border=\"1\" class=\"dataframe\">\n  <thead>\n    <tr style=\"text-align: right;\">\n      <th></th>\n      <th>P_UNITID</th>\n      <th>P_OPEID6</th>\n      <th>P_INSTNM</th>\n      <th>P_CONTROL</th>\n      <th>P_MAIN</th>\n      <th>P_CIPCODE</th>\n      <th>P_CIPDESC</th>\n      <th>P_CREDLEV</th>\n      <th>P_CREDDESC</th>\n      <th>P_COUNT</th>\n      <th>P_DEBTMEDIAN</th>\n      <th>P_DEBTPAYMENT10YR</th>\n      <th>P_DEBTMEAN</th>\n      <th>P_TITLEIVCOUNT</th>\n      <th>P_EARNINGSCOUNT</th>\n      <th>P_MD_EARN_WNE</th>\n      <th>P_IPEDSCOUNT1</th>\n      <th>P_IPEDSCOUNT2</th>\n    </tr>\n  </thead>\n  <tbody>\n    <tr>\n      <th>0</th>\n      <td>100654</td>\n      <td>1002</td>\n      <td>Alabama A &amp; M University</td>\n      <td>Public</td>\n      <td>1</td>\n      <td>100</td>\n      <td>Agriculture, General.</td>\n      <td>3</td>\n      <td>Bachelors Degree</td>\n      <td>PrivacySuppressed</td>\n      <td>PrivacySuppressed</td>\n      <td>PrivacySuppressed</td>\n      <td>PrivacySuppressed</td>\n      <td>PrivacySuppressed</td>\n      <td>PrivacySuppressed</td>\n      <td>PrivacySuppressed</td>\n      <td>4.0</td>\n      <td>NaN</td>\n    </tr>\n    <tr>\n      <th>1</th>\n      <td>100654</td>\n      <td>1002</td>\n      <td>Alabama A &amp; M University</td>\n      <td>Public</td>\n      <td>1</td>\n      <td>101</td>\n      <td>Agricultural Business and Management.</td>\n      <td>3</td>\n      <td>Bachelors Degree</td>\n      <td>PrivacySuppressed</td>\n      <td>PrivacySuppressed</td>\n      <td>PrivacySuppressed</td>\n      <td>PrivacySuppressed</td>\n      <td>PrivacySuppressed</td>\n      <td>PrivacySuppressed</td>\n      <td>PrivacySuppressed</td>\n      <td>NaN</td>\n      <td>NaN</td>\n    </tr>\n    <tr>\n      <th>2</th>\n      <td>100654</td>\n      <td>1002</td>\n      <td>Alabama A &amp; M University</td>\n      <td>Public</td>\n      <td>1</td>\n      <td>109</td>\n      <td>Animal Sciences.</td>\n      <td>3</td>\n      <td>Bachelors Degree</td>\n      <td>PrivacySuppressed</td>\n      <td>PrivacySuppressed</td>\n      <td>PrivacySuppressed</td>\n      <td>31066</td>\n      <td>PrivacySuppressed</td>\n      <td>PrivacySuppressed</td>\n      <td>PrivacySuppressed</td>\n      <td>7.0</td>\n      <td>6.0</td>\n    </tr>\n    <tr>\n      <th>3</th>\n      <td>100654</td>\n      <td>1002</td>\n      <td>Alabama A &amp; M University</td>\n      <td>Public</td>\n      <td>1</td>\n      <td>110</td>\n      <td>Food Science and Technology.</td>\n      <td>3</td>\n      <td>Bachelors Degree</td>\n      <td>PrivacySuppressed</td>\n      <td>PrivacySuppressed</td>\n      <td>PrivacySuppressed</td>\n      <td>PrivacySuppressed</td>\n      <td>PrivacySuppressed</td>\n      <td>PrivacySuppressed</td>\n      <td>PrivacySuppressed</td>\n      <td>5.0</td>\n      <td>8.0</td>\n    </tr>\n    <tr>\n      <th>4</th>\n      <td>100654</td>\n      <td>1002</td>\n      <td>Alabama A &amp; M University</td>\n      <td>Public</td>\n      <td>1</td>\n      <td>110</td>\n      <td>Food Science and Technology.</td>\n      <td>5</td>\n      <td>Master's Degree</td>\n      <td>15</td>\n      <td>PrivacySuppressed</td>\n      <td>PrivacySuppressed</td>\n      <td>61527</td>\n      <td>PrivacySuppressed</td>\n      <td>PrivacySuppressed</td>\n      <td>PrivacySuppressed</td>\n      <td>9.0</td>\n      <td>10.0</td>\n    </tr>\n    <tr>\n      <th>5</th>\n      <td>100654</td>\n      <td>1002</td>\n      <td>Alabama A &amp; M University</td>\n      <td>Public</td>\n      <td>1</td>\n      <td>110</td>\n      <td>Food Science and Technology.</td>\n      <td>6</td>\n      <td>Doctoral Degree</td>\n      <td>PrivacySuppressed</td>\n      <td>PrivacySuppressed</td>\n      <td>PrivacySuppressed</td>\n      <td>PrivacySuppressed</td>\n      <td>PrivacySuppressed</td>\n      <td>PrivacySuppressed</td>\n      <td>PrivacySuppressed</td>\n      <td>1.0</td>\n      <td>4.0</td>\n    </tr>\n    <tr>\n      <th>6</th>\n      <td>100654</td>\n      <td>1002</td>\n      <td>Alabama A &amp; M University</td>\n      <td>Public</td>\n      <td>1</td>\n      <td>111</td>\n      <td>Plant Sciences.</td>\n      <td>3</td>\n      <td>Bachelors Degree</td>\n      <td>PrivacySuppressed</td>\n      <td>PrivacySuppressed</td>\n      <td>PrivacySuppressed</td>\n      <td>PrivacySuppressed</td>\n      <td>PrivacySuppressed</td>\n      <td>PrivacySuppressed</td>\n      <td>PrivacySuppressed</td>\n      <td>NaN</td>\n      <td>NaN</td>\n    </tr>\n    <tr>\n      <th>7</th>\n      <td>100654</td>\n      <td>1002</td>\n      <td>Alabama A &amp; M University</td>\n      <td>Public</td>\n      <td>1</td>\n      <td>199</td>\n      <td>Agriculture, Agriculture Operations, and Relat...</td>\n      <td>3</td>\n      <td>Bachelors Degree</td>\n      <td>PrivacySuppressed</td>\n      <td>PrivacySuppressed</td>\n      <td>PrivacySuppressed</td>\n      <td>PrivacySuppressed</td>\n      <td>PrivacySuppressed</td>\n      <td>PrivacySuppressed</td>\n      <td>PrivacySuppressed</td>\n      <td>3.0</td>\n      <td>3.0</td>\n    </tr>\n    <tr>\n      <th>8</th>\n      <td>100654</td>\n      <td>1002</td>\n      <td>Alabama A &amp; M University</td>\n      <td>Public</td>\n      <td>1</td>\n      <td>199</td>\n      <td>Agriculture, Agriculture Operations, and Relat...</td>\n      <td>5</td>\n      <td>Master's Degree</td>\n      <td>PrivacySuppressed</td>\n      <td>PrivacySuppressed</td>\n      <td>PrivacySuppressed</td>\n      <td>PrivacySuppressed</td>\n      <td>PrivacySuppressed</td>\n      <td>PrivacySuppressed</td>\n      <td>PrivacySuppressed</td>\n      <td>7.0</td>\n      <td>8.0</td>\n    </tr>\n  </tbody>\n</table>\n</div>"
     },
     "metadata": {},
     "execution_count": 14
    }
   ],
   "source": [
    "colleges"
   ]
  },
  {
   "cell_type": "code",
   "execution_count": null,
   "metadata": {},
   "outputs": [],
   "source": []
  },
  {
   "cell_type": "code",
   "execution_count": null,
   "metadata": {},
   "outputs": [],
   "source": []
  }
 ]
}