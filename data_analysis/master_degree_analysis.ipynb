{
 "metadata": {
  "language_info": {
   "codemirror_mode": {
    "name": "ipython",
    "version": 3
   },
   "file_extension": ".py",
   "mimetype": "text/x-python",
   "name": "python",
   "nbconvert_exporter": "python",
   "pygments_lexer": "ipython3",
   "version": "3.8.2-final"
  },
  "orig_nbformat": 2,
  "kernelspec": {
   "name": "python38264bit12f136fb171d482eacdd7ed7b3657ecc",
   "display_name": "Python 3.8.2 64-bit"
  }
 },
 "nbformat": 4,
 "nbformat_minor": 2,
 "cells": [
  {
   "cell_type": "code",
   "execution_count": 1,
   "metadata": {},
   "outputs": [],
   "source": [
    "import pandas as pd"
   ]
  },
  {
   "cell_type": "code",
   "execution_count": 2,
   "metadata": {},
   "outputs": [],
   "source": [
    "cleanData = pd.read_csv('../cleaning_data_withDebtsValues.csv')"
   ]
  },
  {
   "cell_type": "code",
   "execution_count": 8,
   "metadata": {},
   "outputs": [
    {
     "output_type": "execute_result",
     "data": {
      "text/plain": "               P_INSTNM                                          P_CIPDESC  \\\n37464  Institution Name                        Curriculum and Instruction.   \n37467  Institution Name                        Curriculum and Instruction.   \n19036  Institution Name                        Curriculum and Instruction.   \n43243  Institution Name                        Curriculum and Instruction.   \n46558  Institution Name  Teacher Education and Professional Development...   \n...                 ...                                                ...   \n35742  Institution Name  Alternative and Complementary Medicine and Med...   \n6429   Institution Name     Advanced/Graduate Dentistry and Oral Sciences.   \n4911   Institution Name  Alternative and Complementary Medicine and Med...   \n15868  Institution Name     Advanced/Graduate Dentistry and Oral Sciences.   \n3102   Institution Name     Advanced/Graduate Dentistry and Oral Sciences.   \n\n       P_DEBTMEDIAN  P_DEBTPAYMENT10YR  P_DEBTMEAN  \n37464          4371                 51        7082  \n37467          4371                 51        7082  \n19036          6703                 78        8580  \n43243          6703                 78        8580  \n46558          6845                 80        8798  \n...             ...                ...         ...  \n35742        165856               1933      195958  \n6429         169625               1976      199087  \n4911         223112               2600      209577  \n15868        215670               2513      217430  \n3102         192591               2244      238792  \n\n[7220 rows x 5 columns]",
      "text/html": "<div>\n<style scoped>\n    .dataframe tbody tr th:only-of-type {\n        vertical-align: middle;\n    }\n\n    .dataframe tbody tr th {\n        vertical-align: top;\n    }\n\n    .dataframe thead th {\n        text-align: right;\n    }\n</style>\n<table border=\"1\" class=\"dataframe\">\n  <thead>\n    <tr style=\"text-align: right;\">\n      <th></th>\n      <th>P_INSTNM</th>\n      <th>P_CIPDESC</th>\n      <th>P_DEBTMEDIAN</th>\n      <th>P_DEBTPAYMENT10YR</th>\n      <th>P_DEBTMEAN</th>\n    </tr>\n  </thead>\n  <tbody>\n    <tr>\n      <th>37464</th>\n      <td>Institution Name</td>\n      <td>Curriculum and Instruction.</td>\n      <td>4371</td>\n      <td>51</td>\n      <td>7082</td>\n    </tr>\n    <tr>\n      <th>37467</th>\n      <td>Institution Name</td>\n      <td>Curriculum and Instruction.</td>\n      <td>4371</td>\n      <td>51</td>\n      <td>7082</td>\n    </tr>\n    <tr>\n      <th>19036</th>\n      <td>Institution Name</td>\n      <td>Curriculum and Instruction.</td>\n      <td>6703</td>\n      <td>78</td>\n      <td>8580</td>\n    </tr>\n    <tr>\n      <th>43243</th>\n      <td>Institution Name</td>\n      <td>Curriculum and Instruction.</td>\n      <td>6703</td>\n      <td>78</td>\n      <td>8580</td>\n    </tr>\n    <tr>\n      <th>46558</th>\n      <td>Institution Name</td>\n      <td>Teacher Education and Professional Development...</td>\n      <td>6845</td>\n      <td>80</td>\n      <td>8798</td>\n    </tr>\n    <tr>\n      <th>...</th>\n      <td>...</td>\n      <td>...</td>\n      <td>...</td>\n      <td>...</td>\n      <td>...</td>\n    </tr>\n    <tr>\n      <th>35742</th>\n      <td>Institution Name</td>\n      <td>Alternative and Complementary Medicine and Med...</td>\n      <td>165856</td>\n      <td>1933</td>\n      <td>195958</td>\n    </tr>\n    <tr>\n      <th>6429</th>\n      <td>Institution Name</td>\n      <td>Advanced/Graduate Dentistry and Oral Sciences.</td>\n      <td>169625</td>\n      <td>1976</td>\n      <td>199087</td>\n    </tr>\n    <tr>\n      <th>4911</th>\n      <td>Institution Name</td>\n      <td>Alternative and Complementary Medicine and Med...</td>\n      <td>223112</td>\n      <td>2600</td>\n      <td>209577</td>\n    </tr>\n    <tr>\n      <th>15868</th>\n      <td>Institution Name</td>\n      <td>Advanced/Graduate Dentistry and Oral Sciences.</td>\n      <td>215670</td>\n      <td>2513</td>\n      <td>217430</td>\n    </tr>\n    <tr>\n      <th>3102</th>\n      <td>Institution Name</td>\n      <td>Advanced/Graduate Dentistry and Oral Sciences.</td>\n      <td>192591</td>\n      <td>2244</td>\n      <td>238792</td>\n    </tr>\n  </tbody>\n</table>\n<p>7220 rows × 5 columns</p>\n</div>"
     },
     "metadata": {},
     "execution_count": 8
    }
   ],
   "source": [
    "# Master Degree data\n",
    "\n",
    "# To select Master degree we use label P_CREDLEV and integer 5 that represent Master degree column\n",
    "masterDegrees = cleanData[(cleanData['P_CREDLEV'] == 5)]\n",
    "sortedByDebtMeanMasterDegrees = masterDegrees.sort_values(by ='P_DEBTMEAN')\n",
    "\n",
    "df1a = sortedByDebtMeanMasterDegrees[['P_INSTNM', 'P_CIPDESC', 'P_DEBTMEDIAN', 'P_DEBTPAYMENT10YR', 'P_DEBTMEAN']]\n",
    "df1a"
   ]
  },
  {
   "cell_type": "code",
   "execution_count": null,
   "metadata": {},
   "outputs": [],
   "source": []
  }
 ]
}