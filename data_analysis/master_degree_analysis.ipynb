{
 "metadata": {
  "language_info": {
   "codemirror_mode": {
    "name": "ipython",
    "version": 3
   },
   "file_extension": ".py",
   "mimetype": "text/x-python",
   "name": "python",
   "nbconvert_exporter": "python",
   "pygments_lexer": "ipython3",
   "version": "3.8.2-final"
  },
  "orig_nbformat": 2,
  "kernelspec": {
   "name": "python38264bit12f136fb171d482eacdd7ed7b3657ecc",
   "display_name": "Python 3.8.2 64-bit"
  }
 },
 "nbformat": 4,
 "nbformat_minor": 2,
 "cells": [
  {
   "cell_type": "code",
   "execution_count": 4,
   "metadata": {},
   "outputs": [],
   "source": [
    "import pandas as pd"
   ]
  },
  {
   "cell_type": "code",
   "execution_count": 5,
   "metadata": {},
   "outputs": [],
   "source": [
    "cleanData = pd.read_csv('../cleaning_data_withDebtsValues.csv')"
   ]
  },
  {
   "cell_type": "code",
   "execution_count": 8,
   "metadata": {},
   "outputs": [],
   "source": [
    "# Master Degree data\n",
    "\n",
    "# To select Master degree we use label P_CREDLEV and integer 5 that represent Master degree column\n",
    "masterDegrees = cleanData[(cleanData['P_CREDLEV'] == 5)]\n",
    "sortedByDebtMeanMasterDegrees = masterDegrees.sort_values(by ='P_DEBTMEAN')\n",
    "\n",
    "# Select specific columns to output the data\n",
    "outputData = sortedByDebtMeanMasterDegrees[['P_INSTNM','P_CIPCODE', 'P_CIPDESC', 'P_DEBTMEDIAN', 'P_DEBTPAYMENT10YR', 'P_DEBTMEAN']]\n",
    "\n",
    "# Save data sorted by DEBTMEAN\n",
    "outputData.to_csv('master_degree_analysis_sortedByDebtMean.csv')"
   ]
  },
  {
   "cell_type": "code",
   "execution_count": 9,
   "metadata": {},
   "outputs": [
    {
     "output_type": "execute_result",
     "data": {
      "text/plain": "Business Administration, Management and Operations.                                   764\nRegistered Nursing, Nursing Administration, Nursing Research and Clinical Nursing.    377\nEducational Administration and Supervision.                                           345\nTeacher Education and Professional Development, Specific Levels and Methods.          322\nSocial Work.                                                                          262\nAccounting and Related Services.                                                      258\nStudent Counseling and Personnel Services.                                            253\nClinical, Counseling and Applied Psychology.                                          240\nPublic Administration.                                                                210\nSpecial Education and Teaching.                                                       207\nName: P_CIPDESC, dtype: int64"
     },
     "metadata": {},
     "execution_count": 9
    }
   ],
   "source": [
    "# Select top 10 majors\n",
    "n = 10\n",
    "topByMajor = sortedByDebtMeanMasterDegrees['P_CIPDESC'].value_counts()[:n]\n",
    "\n",
    "topByMajor\n",
    "\n",
    "# majorWithTheMostRecors = sortedByDebtMeanMasterDegrees[(sortedByDebtMeanMasterDegrees['P_CIPCODE'] == topByMajor)]\n",
    "# majorWithTheMostRecors"
   ]
  },
  {
   "cell_type": "code",
   "execution_count": null,
   "metadata": {},
   "outputs": [],
   "source": []
  }
 ]
}