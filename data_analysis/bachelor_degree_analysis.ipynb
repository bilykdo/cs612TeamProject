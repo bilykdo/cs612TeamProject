{
 "metadata": {
  "language_info": {
   "codemirror_mode": {
    "name": "ipython",
    "version": 3
   },
   "file_extension": ".py",
   "mimetype": "text/x-python",
   "name": "python",
   "nbconvert_exporter": "python",
   "pygments_lexer": "ipython3",
   "version": "3.8.2-final"
  },
  "orig_nbformat": 2,
  "kernelspec": {
   "name": "python38264bit12f136fb171d482eacdd7ed7b3657ecc",
   "display_name": "Python 3.8.2 64-bit"
  }
 },
 "nbformat": 4,
 "nbformat_minor": 2,
 "cells": [
  {
   "cell_type": "code",
   "execution_count": 14,
   "metadata": {},
   "outputs": [],
   "source": [
    "import pandas as pd"
   ]
  },
  {
   "cell_type": "code",
   "execution_count": 15,
   "metadata": {},
   "outputs": [],
   "source": [
    "cleanData = pd.read_csv('../cleaning_data_withDebtsValues.csv')"
   ]
  },
  {
   "cell_type": "code",
   "execution_count": 16,
   "metadata": {},
   "outputs": [],
   "source": [
    "# Bachelor Degree data\n",
    "\n",
    "# To select Bachelor degree we use label P_CREDLEV and integer 3 that represent Bachelor degree column\n",
    "bachelorDegrees = cleanData[(cleanData['P_CREDLEV'] == 3)]\n",
    "sortedByDebtMeanBachelorDegrees = bachelorDegrees.sort_values(by ='P_DEBTMEAN')\n",
    "\n",
    "# Select specific columns to output the data\n",
    "outputData = sortedByDebtMeanBachelorDegrees[['P_INSTNM','P_CIPCODE',  'P_CIPDESC', 'P_DEBTMEDIAN', 'P_DEBTPAYMENT10YR', 'P_DEBTMEAN']]\n",
    "\n",
    "# Save data sorted by DEBTMEAN\n",
    "outputData.to_csv('bachelor_degree_analysis_sortedByDebtMean.csv')"
   ]
  },
  {
   "cell_type": "code",
   "execution_count": 50,
   "metadata": {},
   "outputs": [],
   "source": [
    "sortedByDebtPayment10YRMeanBachelorDegrees = bachelorDegrees.sort_values(by ='P_DEBTPAYMENT10YR')\n",
    "\n",
    "# Select specific columns to output the data\n",
    "outputData = sortedByDebtPayment10YRMeanBachelorDegrees[['P_INSTNM','P_CIPCODE',  'P_CIPDESC', 'P_DEBTMEDIAN', 'P_DEBTPAYMENT10YR', 'P_DEBTMEAN']]\n",
    "\n",
    "outputData.to_csv('bachelor_degree_analysis_sortedByDebtPayment10YR.csv')"
   ]
  },
  {
   "cell_type": "code",
   "execution_count": 59,
   "metadata": {},
   "outputs": [],
   "source": [
    "bachelor_degree_analysis_sortedByDataAvailabilityCount = pd.DataFrame(sortedByDebtMeanBachelorDegrees['P_CIPDESC'].value_counts())\n",
    "bachelor_degree_analysis_sortedByDataAvailabilityCount.to_csv('bachelor_degree_analysis_sortedByDataAvailabilityCount.csv')\n",
    "\n"
   ]
  },
  {
   "cell_type": "code",
   "execution_count": 58,
   "metadata": {},
   "outputs": [
    {
     "output_type": "execute_result",
     "data": {
      "text/plain": "      P_CIPCODE\n5202       1431\n4201       1098\n5138        910\n2601        904\n4301        858\n...         ...\n2603          1\n1611          1\n1307          1\n2501          1\n4002          1\n\n[291 rows x 1 columns]",
      "text/html": "<div>\n<style scoped>\n    .dataframe tbody tr th:only-of-type {\n        vertical-align: middle;\n    }\n\n    .dataframe tbody tr th {\n        vertical-align: top;\n    }\n\n    .dataframe thead th {\n        text-align: right;\n    }\n</style>\n<table border=\"1\" class=\"dataframe\">\n  <thead>\n    <tr style=\"text-align: right;\">\n      <th></th>\n      <th>P_CIPCODE</th>\n    </tr>\n  </thead>\n  <tbody>\n    <tr>\n      <th>5202</th>\n      <td>1431</td>\n    </tr>\n    <tr>\n      <th>4201</th>\n      <td>1098</td>\n    </tr>\n    <tr>\n      <th>5138</th>\n      <td>910</td>\n    </tr>\n    <tr>\n      <th>2601</th>\n      <td>904</td>\n    </tr>\n    <tr>\n      <th>4301</th>\n      <td>858</td>\n    </tr>\n    <tr>\n      <th>...</th>\n      <td>...</td>\n    </tr>\n    <tr>\n      <th>2603</th>\n      <td>1</td>\n    </tr>\n    <tr>\n      <th>1611</th>\n      <td>1</td>\n    </tr>\n    <tr>\n      <th>1307</th>\n      <td>1</td>\n    </tr>\n    <tr>\n      <th>2501</th>\n      <td>1</td>\n    </tr>\n    <tr>\n      <th>4002</th>\n      <td>1</td>\n    </tr>\n  </tbody>\n</table>\n<p>291 rows × 1 columns</p>\n</div>"
     },
     "metadata": {},
     "execution_count": 58
    }
   ],
   "source": [
    "df = pd.DataFrame(sortedByDebtMeanBachelorDegrees['P_CIPCODE'].value_counts())\n",
    "df"
   ]
  },
  {
   "cell_type": "code",
   "execution_count": null,
   "metadata": {},
   "outputs": [],
   "source": []
  }
 ]
}