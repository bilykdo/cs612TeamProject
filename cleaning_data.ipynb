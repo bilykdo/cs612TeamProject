{
 "metadata": {
  "language_info": {
   "codemirror_mode": {
    "name": "ipython",
    "version": 3
   },
   "file_extension": ".py",
   "mimetype": "text/x-python",
   "name": "python",
   "nbconvert_exporter": "python",
   "pygments_lexer": "ipython3",
   "version": "3.8.2-final"
  },
  "orig_nbformat": 2,
  "kernelspec": {
   "name": "python38264bit12f136fb171d482eacdd7ed7b3657ecc",
   "display_name": "Python 3.8.2 64-bit"
  }
 },
 "nbformat": 4,
 "nbformat_minor": 2,
 "cells": [
  {
   "cell_type": "code",
   "execution_count": 2,
   "metadata": {},
   "outputs": [],
   "source": [
    "import pandas as pd\n",
    "import numpy as np"
   ]
  },
  {
   "cell_type": "code",
   "execution_count": 3,
   "metadata": {},
   "outputs": [],
   "source": [
    "allColleges = pd.read_csv('original_data_set/FieldOfStudyData1415_1516_PP.csv')"
   ]
  },
  {
   "cell_type": "code",
   "execution_count": 4,
   "metadata": {},
   "outputs": [
    {
     "output_type": "execute_result",
     "data": {
      "text/plain": "        P_UNITID  P_OPEID6                                           P_INSTNM  \\\n15      100654.0      1002                           Alabama A & M University   \n22      100654.0      1002                           Alabama A & M University   \n23      100654.0      1002                           Alabama A & M University   \n24      100654.0      1002                           Alabama A & M University   \n27      100654.0      1002                           Alabama A & M University   \n...          ...       ...                                                ...   \n209040       NaN     34733                      University of the Arts London   \n209047       NaN     34733                      University of the Arts London   \n209217       NaN     37803                 Saba University School of Medicine   \n209244       NaN     39003                 Medical University of the Americas   \n209248       NaN     39743  St. George's University, School of Veterinary ...   \n\n       P_CONTROL  P_MAIN  P_CIPCODE  \\\n15        Public       1       1101   \n22        Public       1       1312   \n23        Public       1       1312   \n24        Public       1       1313   \n27        Public       1       1410   \n...          ...     ...        ...   \n209040   Foreign       1       5001   \n209047   Foreign       1       5004   \n209217   Foreign       1       5112   \n209244   Foreign       1       5112   \n209248   Foreign       1       5124   \n\n                                                P_CIPDESC  P_CREDLEV  \\\n15            Computer and Information Sciences, General.          3   \n22      Teacher Education and Professional Development...          3   \n23      Teacher Education and Professional Development...          5   \n24      Teacher Education and Professional Development...          3   \n27      Electrical, Electronics and Communications Eng...          3   \n...                                                   ...        ...   \n209040               Visual and Performing Arts, General.          5   \n209047                           Design and Applied Arts.          5   \n209217                                          Medicine.          6   \n209244                                          Medicine.          6   \n209248                               Veterinary Medicine.          7   \n\n                       P_CREDDESC            P_COUNT P_DEBTMEDIAN  \\\n15              Bachelors Degree  PrivacySuppressed        32743   \n22              Bachelors Degree  PrivacySuppressed        44985   \n23                Master's Degree  PrivacySuppressed        38883   \n24              Bachelors Degree  PrivacySuppressed        34500   \n27              Bachelors Degree  PrivacySuppressed        32750   \n...                           ...                ...          ...   \n209040            Master's Degree  PrivacySuppressed        54530   \n209047            Master's Degree  PrivacySuppressed        63917   \n209217            Doctoral Degree  PrivacySuppressed        79491   \n209244            Doctoral Degree  PrivacySuppressed        25054   \n209248  First Professional Degree  PrivacySuppressed       256016   \n\n       P_DEBTPAYMENT10YR P_DEBTMEAN  P_TITLEIVCOUNT  P_EARNINGSCOUNT  \\\n15                   340      33933             NaN              NaN   \n22                   467      43778             NaN              NaN   \n23                   453      44879             NaN              NaN   \n24                   358      33714             NaN              NaN   \n27                   340      35588             NaN              NaN   \n...                  ...        ...             ...              ...   \n209040               635      51182             NaN              NaN   \n209047               745      66237             NaN              NaN   \n209217               926      84649             NaN              NaN   \n209244               292      36353             NaN              NaN   \n209248              2983     233395             NaN              NaN   \n\n        P_MD_EARN_WNE  P_IPEDSCOUNT1  P_IPEDSCOUNT2  \n15                NaN           27.0           17.0  \n22                NaN           19.0            7.0  \n23                NaN            9.0           20.0  \n24                NaN           26.0           24.0  \n27                NaN           27.0           19.0  \n...               ...            ...            ...  \n209040            NaN            NaN            NaN  \n209047            NaN            NaN            NaN  \n209217            NaN            NaN            NaN  \n209244            NaN            NaN            NaN  \n209248            NaN            NaN            NaN  \n\n[49317 rows x 18 columns]",
      "text/html": "<div>\n<style scoped>\n    .dataframe tbody tr th:only-of-type {\n        vertical-align: middle;\n    }\n\n    .dataframe tbody tr th {\n        vertical-align: top;\n    }\n\n    .dataframe thead th {\n        text-align: right;\n    }\n</style>\n<table border=\"1\" class=\"dataframe\">\n  <thead>\n    <tr style=\"text-align: right;\">\n      <th></th>\n      <th>P_UNITID</th>\n      <th>P_OPEID6</th>\n      <th>P_INSTNM</th>\n      <th>P_CONTROL</th>\n      <th>P_MAIN</th>\n      <th>P_CIPCODE</th>\n      <th>P_CIPDESC</th>\n      <th>P_CREDLEV</th>\n      <th>P_CREDDESC</th>\n      <th>P_COUNT</th>\n      <th>P_DEBTMEDIAN</th>\n      <th>P_DEBTPAYMENT10YR</th>\n      <th>P_DEBTMEAN</th>\n      <th>P_TITLEIVCOUNT</th>\n      <th>P_EARNINGSCOUNT</th>\n      <th>P_MD_EARN_WNE</th>\n      <th>P_IPEDSCOUNT1</th>\n      <th>P_IPEDSCOUNT2</th>\n    </tr>\n  </thead>\n  <tbody>\n    <tr>\n      <th>15</th>\n      <td>100654.0</td>\n      <td>1002</td>\n      <td>Alabama A &amp; M University</td>\n      <td>Public</td>\n      <td>1</td>\n      <td>1101</td>\n      <td>Computer and Information Sciences, General.</td>\n      <td>3</td>\n      <td>Bachelors Degree</td>\n      <td>PrivacySuppressed</td>\n      <td>32743</td>\n      <td>340</td>\n      <td>33933</td>\n      <td>NaN</td>\n      <td>NaN</td>\n      <td>NaN</td>\n      <td>27.0</td>\n      <td>17.0</td>\n    </tr>\n    <tr>\n      <th>22</th>\n      <td>100654.0</td>\n      <td>1002</td>\n      <td>Alabama A &amp; M University</td>\n      <td>Public</td>\n      <td>1</td>\n      <td>1312</td>\n      <td>Teacher Education and Professional Development...</td>\n      <td>3</td>\n      <td>Bachelors Degree</td>\n      <td>PrivacySuppressed</td>\n      <td>44985</td>\n      <td>467</td>\n      <td>43778</td>\n      <td>NaN</td>\n      <td>NaN</td>\n      <td>NaN</td>\n      <td>19.0</td>\n      <td>7.0</td>\n    </tr>\n    <tr>\n      <th>23</th>\n      <td>100654.0</td>\n      <td>1002</td>\n      <td>Alabama A &amp; M University</td>\n      <td>Public</td>\n      <td>1</td>\n      <td>1312</td>\n      <td>Teacher Education and Professional Development...</td>\n      <td>5</td>\n      <td>Master's Degree</td>\n      <td>PrivacySuppressed</td>\n      <td>38883</td>\n      <td>453</td>\n      <td>44879</td>\n      <td>NaN</td>\n      <td>NaN</td>\n      <td>NaN</td>\n      <td>9.0</td>\n      <td>20.0</td>\n    </tr>\n    <tr>\n      <th>24</th>\n      <td>100654.0</td>\n      <td>1002</td>\n      <td>Alabama A &amp; M University</td>\n      <td>Public</td>\n      <td>1</td>\n      <td>1313</td>\n      <td>Teacher Education and Professional Development...</td>\n      <td>3</td>\n      <td>Bachelors Degree</td>\n      <td>PrivacySuppressed</td>\n      <td>34500</td>\n      <td>358</td>\n      <td>33714</td>\n      <td>NaN</td>\n      <td>NaN</td>\n      <td>NaN</td>\n      <td>26.0</td>\n      <td>24.0</td>\n    </tr>\n    <tr>\n      <th>27</th>\n      <td>100654.0</td>\n      <td>1002</td>\n      <td>Alabama A &amp; M University</td>\n      <td>Public</td>\n      <td>1</td>\n      <td>1410</td>\n      <td>Electrical, Electronics and Communications Eng...</td>\n      <td>3</td>\n      <td>Bachelors Degree</td>\n      <td>PrivacySuppressed</td>\n      <td>32750</td>\n      <td>340</td>\n      <td>35588</td>\n      <td>NaN</td>\n      <td>NaN</td>\n      <td>NaN</td>\n      <td>27.0</td>\n      <td>19.0</td>\n    </tr>\n    <tr>\n      <th>...</th>\n      <td>...</td>\n      <td>...</td>\n      <td>...</td>\n      <td>...</td>\n      <td>...</td>\n      <td>...</td>\n      <td>...</td>\n      <td>...</td>\n      <td>...</td>\n      <td>...</td>\n      <td>...</td>\n      <td>...</td>\n      <td>...</td>\n      <td>...</td>\n      <td>...</td>\n      <td>...</td>\n      <td>...</td>\n      <td>...</td>\n    </tr>\n    <tr>\n      <th>209040</th>\n      <td>NaN</td>\n      <td>34733</td>\n      <td>University of the Arts London</td>\n      <td>Foreign</td>\n      <td>1</td>\n      <td>5001</td>\n      <td>Visual and Performing Arts, General.</td>\n      <td>5</td>\n      <td>Master's Degree</td>\n      <td>PrivacySuppressed</td>\n      <td>54530</td>\n      <td>635</td>\n      <td>51182</td>\n      <td>NaN</td>\n      <td>NaN</td>\n      <td>NaN</td>\n      <td>NaN</td>\n      <td>NaN</td>\n    </tr>\n    <tr>\n      <th>209047</th>\n      <td>NaN</td>\n      <td>34733</td>\n      <td>University of the Arts London</td>\n      <td>Foreign</td>\n      <td>1</td>\n      <td>5004</td>\n      <td>Design and Applied Arts.</td>\n      <td>5</td>\n      <td>Master's Degree</td>\n      <td>PrivacySuppressed</td>\n      <td>63917</td>\n      <td>745</td>\n      <td>66237</td>\n      <td>NaN</td>\n      <td>NaN</td>\n      <td>NaN</td>\n      <td>NaN</td>\n      <td>NaN</td>\n    </tr>\n    <tr>\n      <th>209217</th>\n      <td>NaN</td>\n      <td>37803</td>\n      <td>Saba University School of Medicine</td>\n      <td>Foreign</td>\n      <td>1</td>\n      <td>5112</td>\n      <td>Medicine.</td>\n      <td>6</td>\n      <td>Doctoral Degree</td>\n      <td>PrivacySuppressed</td>\n      <td>79491</td>\n      <td>926</td>\n      <td>84649</td>\n      <td>NaN</td>\n      <td>NaN</td>\n      <td>NaN</td>\n      <td>NaN</td>\n      <td>NaN</td>\n    </tr>\n    <tr>\n      <th>209244</th>\n      <td>NaN</td>\n      <td>39003</td>\n      <td>Medical University of the Americas</td>\n      <td>Foreign</td>\n      <td>1</td>\n      <td>5112</td>\n      <td>Medicine.</td>\n      <td>6</td>\n      <td>Doctoral Degree</td>\n      <td>PrivacySuppressed</td>\n      <td>25054</td>\n      <td>292</td>\n      <td>36353</td>\n      <td>NaN</td>\n      <td>NaN</td>\n      <td>NaN</td>\n      <td>NaN</td>\n      <td>NaN</td>\n    </tr>\n    <tr>\n      <th>209248</th>\n      <td>NaN</td>\n      <td>39743</td>\n      <td>St. George's University, School of Veterinary ...</td>\n      <td>Foreign</td>\n      <td>1</td>\n      <td>5124</td>\n      <td>Veterinary Medicine.</td>\n      <td>7</td>\n      <td>First Professional Degree</td>\n      <td>PrivacySuppressed</td>\n      <td>256016</td>\n      <td>2983</td>\n      <td>233395</td>\n      <td>NaN</td>\n      <td>NaN</td>\n      <td>NaN</td>\n      <td>NaN</td>\n      <td>NaN</td>\n    </tr>\n  </tbody>\n</table>\n<p>49317 rows × 18 columns</p>\n</div>"
     },
     "metadata": {},
     "execution_count": 4
    }
   ],
   "source": [
    "# CLEANING THE DATA\n",
    "# Drop the data that doesn't show P_DEBTMEDIAN/P_DEBTPAYMENT10YR/P_DEBTMEAN\n",
    "# P_DEBTMEDIAN - Median federal loan debt of borrowers completing college\n",
    "# P_DEBTPAYMENT10YR - Median federal loan debt of borrowers completing college in monthly payments (10-year amortization plan)\n",
    "# P_DEBTMEAN - Mean federal loan debt of borrowers completing college\n",
    "cleanData = allColleges[(allColleges['P_DEBTMEDIAN'] != 'PrivacySuppressed') & \n",
    "(allColleges['P_DEBTPAYMENT10YR'] != 'PrivacySuppressed') & (allColleges['P_DEBTMEAN'] != 'PrivacySuppressed')]\n",
    "\n",
    "cleanData"
   ]
  },
  {
   "cell_type": "code",
   "execution_count": null,
   "metadata": {},
   "outputs": [],
   "source": []
  }
 ]
}